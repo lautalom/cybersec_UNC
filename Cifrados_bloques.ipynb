{
  "cells": [
    {
      "cell_type": "markdown",
      "metadata": {
        "id": "view-in-github",
        "colab_type": "text"
      },
      "source": [
        "<a href=\"https://colab.research.google.com/github/lautalom/diploUNC/blob/main/Cifrados_bloques.ipynb\" target=\"_parent\"><img src=\"https://colab.research.google.com/assets/colab-badge.svg\" alt=\"Open In Colab\"/></a>"
      ]
    },
    {
      "cell_type": "markdown",
      "metadata": {
        "id": "EfjmdwuyP0aV"
      },
      "source": [
        "# Falsificacion en modo ECB\n",
        "[Enunciado](https://ciberseguridad.diplomatura.unc.edu.ar/cripto/doc/ecb-forge.html)\n",
        "\n",
        "\n",
        "En este desafío, el servidor permite a un usuario registrarse con un correo electrónico, y devuelve un perfil, opcionalmente cifrado con AES en modo ECB.\n",
        "\n",
        "Si el usuario registró el correo usuario@example.com , el perfil tendrá la forma\n",
        "user=usuario@example.com&id=547&role=user\n",
        "\n",
        "Es decir, está compuesto por un conjunto de pares atributo-valor, de la forma <atributo>=<valor>, y separados el carácter &, de la misma forma que en la query string de una URL.\n",
        "\n",
        "Para obtener el perfil, se debe hacer una peticion GET a una URL de la forma:\n",
        "\n",
        "https://ciberseguridad.diplomatura.unc.edu.ar/cripto/ecb-forge/<email\\>/register?email=\\<email-a-registrar>\n",
        "        \n",
        "dónde <email> debe ser reemplazado por una dirección de correo electrónico registrada, y <email-a-registrar> por la dirección de correo electrónico que se desee registrar.\n",
        "\n",
        "En el siguiente ejemplo, ejecutado con curl, la dirección que está operando el desafío es user@example.com y la dirección que se desea registrar es usuario@ejemplo.edu.ar:\n",
        "\n",
        "```\n",
        "$ curl https://ciberseguridad.diplomatura.unc.edu.ar/cripto/ecb-forge/user@example.com/register?email=usuario@ejemplo.edu.ar\n",
        "user=usuario@ejemplo.edu.ar&id=207&role=user\n",
        "```\n",
        "\n",
        "Si se le pasa un segundo par encrypted=true en la consulta, el servidor devuelve el mismo perfil, cifrado con AES en modo ECB, y codificado en base64.\n",
        "\n",
        "Veamos el mismo ejemplo:\n",
        "\n",
        "```\n",
        "$ curl 'https://ciberseguridad.diplomatura.unc.edu.ar/cripto/ecb-forge/user@example.com/register?email=usuario@ejemplo.edu.ar&encrypted=true'\n",
        "```\n",
        "El servidor devuelve el perfil cifrado y codificado en base64. Obsérvese que hemos encerrado todo el argumento de curl entre comillas para evitar que el shell interprete el carácter &. Obviamente esta precaución es innecesaria si se utiliza un browser.\n",
        "\n",
        "El desafío es alterar el mensaje cifrado de manera tal que al descifrarlo incluya el par role=admin. Esta alteración es posible porque el modo ECB es maleable. Es posible intercambiar o insertar bloques en el texto cifrado de manera tal que al descifrarlo el texto claro haya sido modificado de manera predecible."
      ]
    },
    {
      "cell_type": "markdown",
      "metadata": {
        "id": "vLguwn7LbE_e"
      },
      "source": [
        "# Análisis\n",
        "La clave para resolver este desafío es comprender que podemos armar un mensaje falsificado combinando bloques que contienen texto seleccionado por nosotros. En este caso, el único texto bajo nuestro control es el correo electrónico, por lo que será necesario enviar distintas direcciones de manera tal que ciertos bloques contengan el texto que nosotros deseamos.\n",
        "\n",
        "# Puntos a tener en cuenta\n",
        "- El algoritmo utilizado es AES, por lo que los bloques son de 128 bits (16 bytes).\n",
        "- El texto cifrado enviado como respuesta debe descifrarse a una consulta (query string) válida:\n",
        "- Debe tener exactamente un campo user, con una dirección de correo válida.\n",
        "- Debe contener al menos un campo id.\n",
        "- Debe contener al menos un campo role con el valor admin.\n",
        "- Puede contener otros pares atributo-valor aparte de los mencionados.\n",
        "- Como el modo utilizado es ECB, se utiliza relleno (padding). El relleno utilizado es el estandarizado en PKCS7: se aplican tantos bytes como sea necesario para que el mensaje sea múltiplo del tamaño de bloque, y el valor de esos bytes es la longitud del relleno. Si el mensaje original era múltiplo del tamaño de bloque, el relleno es un bloque adicional con todos sus bytes con el valor 16. Al descifrar el mensaje, el relleno debe ser válido."
      ]
    },
    {
      "cell_type": "code",
      "execution_count": null,
      "metadata": {
        "id": "62TXHJSMPm2g"
      },
      "outputs": [],
      "source": [
        "import requests\n",
        "from base64 import b64decode as dec\n",
        "from base64 import b64encode as enc"
      ]
    },
    {
      "cell_type": "markdown",
      "metadata": {
        "id": "nizRdJy4yC3C"
      },
      "source": [
        "1. register a user that ends a block with 'role='\n",
        "2. register another user that starts block with 'admin&id=....'\n",
        "3. put the admin block besides the role= of the first user\n",
        "\n",
        "note: the cleartext includes the whole formatting, not just the email."
      ]
    },
    {
      "cell_type": "code",
      "execution_count": null,
      "metadata": {
        "id": "ogf4h3_XZzdy"
      },
      "outputs": [],
      "source": [
        "mailex = 'hellokitty@mail.com'\n",
        "email = \"lautarolombardi19@gmail.com\"\n",
        "\n",
        "def makereq(address, encode=0):\n",
        "  url = f\"https://ciberseguridad.diplomatura.unc.edu.ar/cripto/ecb-forge/{email}/register?email={address}\"\n",
        "  if encode:\n",
        "    url += '&encrypted=true'\n",
        "  request = requests.get(url)\n",
        "  return request.text"
      ]
    },
    {
      "cell_type": "code",
      "execution_count": null,
      "metadata": {
        "colab": {
          "base_uri": "https://localhost:8080/"
        },
        "id": "92vMJGhfsfv1",
        "outputId": "ce2a4115-8d7e-488e-94fe-cf23d795e684"
      },
      "outputs": [
        {
          "name": "stdout",
          "output_type": "stream",
          "text": [
            "37\n"
          ]
        }
      ],
      "source": [
        "user1, user2, user3 = '', '', ''\n",
        "first = len(makereq(mailex, 0))\n",
        "user1, user2, user3 = '', '', ''\n",
        "# register user that ends with role=, aka len==(multiple of 16)+4\n",
        "for i in range(16):\n",
        "  attempt = makereq(mailex + 'b'*i, 0)\n",
        "  # register user that ends with role=, aka len==(multiple of 16)+4\n",
        "  if len(attempt)%16-4==0:\n",
        "    user1 = i\n",
        "\n",
        "user1 = dec(makereq(mailex + user1 * 'b', 1))\n",
        "user2 = mailex + (32-len('user=')-len(mailex)) * 'b' + 'admin'\n",
        "# should be 5 places after newblock\n",
        "print(makereq(user2, 0).find('&id'))\n",
        "# should be exactly at newblock index\n",
        "if makereq(user2, 0).find('admin')%16 == 0:\n",
        "  user2 = dec(makereq(user2, 1))"
      ]
    },
    {
      "cell_type": "code",
      "execution_count": null,
      "metadata": {
        "id": "7_TxePHgl7Rm"
      },
      "outputs": [],
      "source": [
        "# take the admin block out of user2\n",
        "admin_cipher = user2[-16*2:-16]\n",
        "new_user = user1[:-16] + admin_cipher + user1[-16:]"
      ]
    },
    {
      "cell_type": "code",
      "execution_count": null,
      "metadata": {
        "colab": {
          "base_uri": "https://localhost:8080/"
        },
        "id": "1kh2u1Z46dyk",
        "outputId": "aaa4a718-2bb5-44f9-d691-fc1aed8657c7"
      },
      "outputs": [
        {
          "name": "stdout",
          "output_type": "stream",
          "text": [
            "¡Ganaste!\n",
            "\n"
          ]
        }
      ],
      "source": [
        "ans = f\"https://ciberseguridad.diplomatura.unc.edu.ar/cripto/ecb-forge/{email}/answer\"\n",
        "request = requests.post(url=ans, files={'message': enc(new_user)})\n",
        "print(request.text)"
      ]
    },
    {
      "cell_type": "markdown",
      "metadata": {
        "id": "c3wp1Dk8kUqA"
      },
      "source": [
        "# Cambio de bits en modo CBC\n",
        "En este desafío, el servidor permite a un usuario registrarse con un correo electrónico y un conjunto de datos adicionales, y devuelve un perfil cifrado con AES en modo CBC.\n",
        "\n",
        "Si el usuario registró el correo usuario@example.com y puso como datos “Juan P. Usuario”, el perfil tendrá la forma:\n",
        "\n",
        "user=usuario@example.com;data=Juan P. Usuario;role=user\n",
        "\n",
        "Es decir, está compuesto por un conjunto de pares atributo-valor, de la forma \\<atributo>=\\<valor>, y separados por punto y coma.\n",
        "\n",
        "El servidor devuelve el perfil cifrado, precedido por un IV de 16 bytes, y codificado en base64.\n",
        "\n",
        "El desafío es alterar el mensaje cifrado de manera tal que al descifrarlo incluya el par role=admin. Esta alteración es posible porque el modo CBC es maleable. Es posible modificar el texto cifrado de manera tal que al descifrarlo el texto claro haya sido modificado de manera (parcialmente) predecible.\n",
        "\n",
        "Este tipo de ataque se denomina bit flipping, porque el cambio de un bit en el texto cifrado provoca un cambio el bit correspondiente del siguiente bloque de texto claro (aunque altera completamente el texto claro del bloque modificado).\n",
        "\n",
        "Para obtener los textos cifrados, se debe hacer un requerimiento POST a una URL de la forma:\n",
        "\n",
        "https://ciberseguridad.diplomatura.unc.edu.ar/cripto/cbc-bitflip/<email\\>/register\n",
        "        \n",
        "dónde \\<email> debe ser reemplazado por una dirección de correo electrónico registrada.\n",
        "\n",
        "El contenido debe ser de tipo FORM, con dos campos:\n",
        "\n",
        "- Un campo email, con una dirección de correo a registrar. No es necesario que sea la misma dirección utilizada para acceder al desafío.\n",
        "- Un campo data, con datos arbitrarios, codificado en base64. Los datos no pueden contener el carácter ‘;’ ni el carácter ‘=’.\n",
        "\n",
        "La respuesta será un perfil como el descripto, cifrado, concatenado con el IV y codificado en base64.\n",
        "\n",
        "Si en lugar de hacer un requerimiento POST se hace un requerimiento GET, muestra un formulario que permite cargar los campos requeridos."
      ]
    },
    {
      "cell_type": "markdown",
      "metadata": {
        "id": "a6LOhWfk8HFW"
      },
      "source": [
        "# Analisis\n",
        "La clave para resolver este desafío consiste en entender el comportamiento del modo CBC ante modificaciones del texto cifrado. El resultado de descifrar el bloque modificado es impredecible, pero el siguiente bloque será modificado en exactamento los mismos bits que fueron cambiados. Como en este caso el contenido del campo data es arbitrario, cualquier modificación de su contenido no será detectada, por lo que la solución es escoger un valor para data que tenga la longitud adecuada, de manera que sepamos en qué bloque están los datos a modificar, y alterar el bloque anterior de manera apropiada.\n",
        "\n",
        "## Puntos a tener en cuenta\n",
        "El algoritmo utilizado es AES, por lo que los bloques son de 128 bits (16 bytes).\n",
        "El texto cifrado enviado como respuesta debe descifrarse a una consulta válida, con pares atributo-valor separados por punto y coma:\n",
        "Debe tener exactamente un campo user, con una dirección de correo válida.\n",
        "Debe tener exactamente un campo role con el valor admin.\n",
        "Como el modo utilizado es CBC, se utiliza relleno (padding). El relleno utilizado es el estandarizado en PKCS7: se aplican tantos bytes como sea necesario para que el mensaje sea múltiplo del tamaño de bloque, y el valor de esos bytes es la longitud del relleno. Si el mensaje original era múltiplo del tamaño de bloque, el relleno es un bloque adicional con todos sus bytes con el valor 16. Al descifrar el mensaje, el relleno debe ser válido."
      ]
    },
    {
      "cell_type": "code",
      "execution_count": null,
      "metadata": {
        "id": "OtYR1xXSkrA5"
      },
      "outputs": [],
      "source": [
        "import base64\n",
        "import requests"
      ]
    },
    {
      "cell_type": "code",
      "execution_count": null,
      "metadata": {
        "id": "EiRinl8t80Ef"
      },
      "outputs": [],
      "source": [
        "fakemail = 'hellokitty@mail.com'\n",
        "email = \"lautarolombardi19@gmail.com\"\n",
        "def makereq(data):\n",
        "  challenge_url = f\"https://ciberseguridad.diplomatura.unc.edu.ar/cripto/cbc-bitflip/{email}/register\"\n",
        "  request = requests.post(challenge_url,\n",
        "                          files={'email': fakemail,\n",
        "                                 'data': base64.b64encode(bytes(data, 'ascii'))\n",
        "                                 }\n",
        "                          )\n",
        "  return request.text"
      ]
    },
    {
      "cell_type": "markdown",
      "metadata": {
        "id": "zdA9NtZwuMeX"
      },
      "source": [
        "# como funciona CBC descifrando\n",
        "toma el ciphertext de un bloque y se lo xorea al descifrado del bloque siguiente para obtener el texto plano de ese bloque siguiente. Con lo cual, se puede tocar el ciphertext del bloque n para alterar el texto plano del bloque n+1."
      ]
    },
    {
      "cell_type": "code",
      "execution_count": null,
      "metadata": {
        "colab": {
          "base_uri": "https://localhost:8080/"
        },
        "id": "CnpmTbpbuLSF",
        "outputId": "f0c61bde-b75e-4a8d-ff95-141d2bd99efb"
      },
      "outputs": [
        {
          "name": "stdout",
          "output_type": "stream",
          "text": [
            "80\n"
          ]
        }
      ],
      "source": [
        "def closest_multiple(m, k):\n",
        "    remainder = m % k\n",
        "    diff = k - remainder\n",
        "\n",
        "    if diff <= remainder:\n",
        "        closest = m + diff\n",
        "    else:\n",
        "        closest = m - remainder\n",
        "    return closest\n",
        "\n",
        "# armamos el payload data\n",
        "current_lengths = len('user=')  + len(fakemail) + len(';data=')\n",
        "# this fills previous to last block with trash and first byte of last block with 'b'\n",
        "data = 'b' * (48-current_lengths) + 'b'\n",
        "encrypted = base64.b64decode(makereq(data))\n",
        "print(len(encrypted))\n",
        "array = bytearray(encrypted)"
      ]
    },
    {
      "cell_type": "markdown",
      "metadata": {
        "id": "1XCVsm54zePE"
      },
      "source": [
        "en el ultimo bloque tenemos 'b;role=user' + padding.\n",
        "Tenemos que cambiar toda la substring inicial por ';role=admin', rompiendo el ciphertext del bloque anterior adecuadamente.\n",
        "\n",
        "Sabemos que el XOR de array[-16\\*2:-16] con el decrypt(array[-16:]) nos da el texto claro ';role=user' + padding. Con lo cual, hay que cambiar los bytes iniciales de array[-16\\*2:-16] tal que una vez xoreados contra lo que decrypt(array[-16:]) devuelva el texto ';role=admin'"
      ]
    },
    {
      "cell_type": "code",
      "execution_count": null,
      "metadata": {
        "colab": {
          "base_uri": "https://localhost:8080/"
        },
        "id": "wOxXdLk-0vPe",
        "outputId": "6ab374c6-5cbc-41a7-bdb5-da0ab067aff4"
      },
      "outputs": [
        {
          "name": "stdout",
          "output_type": "stream",
          "text": [
            "True\n",
            "b'\\n\\x94#\\xf4g\\x97\\xb0\\xc9\\xbb\\xb3=\\xd7s\\xa7t\\xba\\x04\\xc5\\xe0:\\\\\\xfd\\x93\\xb9`q$\\x88\\xdcf\\xbf\\xe1'\n",
            "b'\\n\\x94#\\xf4g\\x97\\xb0\\xc9\\xbb\\xb3='\n"
          ]
        }
      ],
      "source": [
        "target_string = ';role=admin'\n",
        "source_string = 'b;role=user'\n",
        "def find_start_bytes():\n",
        "  result = []\n",
        "  for i in range(len(source_string)):\n",
        "    # rationale: array[-32] XOR decrypt(array[-16]) = 'b', what is decrypt?\n",
        "    decrypted_byte = array[-32+i] ^ ord(source_string[i])\n",
        "    # rationale: something XOR decrypt(array[-16])=';', what is something?\n",
        "    new_byte = ord(target_string[i]) ^ decrypted_byte\n",
        "    result.append(new_byte)\n",
        "  return bytes(result)\n",
        "\n",
        "start_bytes = find_start_bytes()\n",
        "new_cipher= bytes(array[:-16*2]) + start_bytes + bytes(array[-16*2+len(start_bytes):])\n",
        "print(len(new_cipher)==len(encrypted))"
      ]
    },
    {
      "cell_type": "code",
      "execution_count": null,
      "metadata": {
        "colab": {
          "base_uri": "https://localhost:8080/"
        },
        "id": "mvNQXN4IbGA7",
        "outputId": "ede1a786-42e9-4fa1-e68c-70c3ff3473ee"
      },
      "outputs": [
        {
          "name": "stdout",
          "output_type": "stream",
          "text": [
            "¡Ganaste!\n",
            "\n"
          ]
        }
      ],
      "source": [
        "ans = f\"https://ciberseguridad.diplomatura.unc.edu.ar/cripto/cbc-bitflip/{email}/answer\"\n",
        "request = requests.post(url=ans, files={'message': base64.b64encode(new_cipher)})\n",
        "print(request.text)"
      ]
    },
    {
      "cell_type": "markdown",
      "metadata": {
        "id": "C65owFW6bFt-"
      },
      "source": [
        "# Descifrado en modo ECB\n",
        "En este desafío, el servidor recibe un mensaje elegido por el usuario, codificado en base64, concatena un mensaje secreto con ese mensaje, y devuelve el resultado cifrado con AES en modo ECB y codificado en base64.\n",
        "\n",
        "Es decir, si \\<mensaje> es el texto elegido por el usuario, el servidor enviará:\n",
        "\n",
        "encode_base64(AES-ECB(decode_base64(\\<mensaje>)||\\<mensaje_secreto>))\n",
        "donde:\n",
        "\n",
        "- encode_base64() y decode_base64() denotan la codificación y decodificación en base64, respectivamente.\n",
        "- AES-ECB() denota la aplicación de AES en modo ECB\n",
        "- \\<mensaje_secreto> es un mensaje generado por el servidor.\n",
        "- || denota concatenación.\n",
        "\n",
        "El desafío consiste en descifrar el mensaje secreto.\n",
        "\n",
        "Para obtener el texto cifrado, se debe hacer un requerimiento POST a una URL de la forma:\n",
        "\n",
        "https://ciberseguridad.diplomatura.unc.edu.ar/cripto/ecb-decrypt/<email\\>/encrypt\n",
        "        \n",
        "dónde \\<email> debe ser reemplazado por una dirección de correo electrónico registrada.\n",
        "\n",
        "El contenido debe ser de tipo FORM, con un campo message que contiene el mensaje elegido, codificado en base64.\n",
        "\n",
        "La respuesta será un texto cifrado codificado en base64, como se describió anteriormente.\n",
        "\n",
        "Si en lugar de hacer un requerimiento POST se hace un requerimiento GET, muestra un formulario que permite cargar el campo requerido."
      ]
    },
    {
      "cell_type": "markdown",
      "metadata": {
        "id": "alchc3dNcUVh"
      },
      "source": [
        "# Análisis\n",
        "La clave para resolver este desafío consiste en comprender que se pueden enviar distintos textos elegidos, y analizar lo respondido por el servidor.\n",
        "\n",
        "Una posible secuencia de pasos para resolver el desafío puede ser la siguiente:\n",
        "\n",
        "- Determinar la longitud del mensaje secreto. La longitud del texto cifrado será igual a la longitud del texto claro elegido, más la longitud del mensaje secreto, más la longitud del relleno. Para ello podemos enviar primero un mensaje vacío, luego uno de longitud 1, luego otro de longitud 2, etc. Cuando cambie la longitud del texto cifrado será porque la longitud de nuestro mensaje, sumada a la longitud del mensaje secreto, completó un múltiplo del tamaño de bloque, y habremos averiguado la longitud deseada.\n",
        "- Enviar un mensaje de 15 bytes. Esto significa que el primer bloque estará conformado por los 15 bytes que conocemos, y el primer byte del mensaje secreto, que no conocemos. Extraer el primer bloque del texto cifrado.\n",
        "- Enviar sucesivos mensajes de 16 bytes. Los primeros 15 bytes deben ser iguales a los 15 bytes del paso anterior. Variar el último byte hasta que el primer bloque del texto cifrado sea igual al obtenido en el paso anterior. El primer byte del mensaje secreto será, pues, el byte utilizado como último byte del texto claro correspondiente a ese bloque.\n",
        "- Repetir el paso 2, pero ahora enviando un bloque en el que el byte 15 es el byte que hemos encontrado.\n",
        "- Repetir el paso 3 para averiguar el segundo byte del mensaje secreto.\n",
        "- Descifrar el resto de los bytes del mensaje secreto de manera similar."
      ]
    },
    {
      "cell_type": "code",
      "execution_count": null,
      "metadata": {
        "id": "NH-UXTNYSHp7"
      },
      "outputs": [],
      "source": [
        "import base64\n",
        "import requests\n",
        "import string"
      ]
    },
    {
      "cell_type": "code",
      "execution_count": null,
      "metadata": {
        "id": "SkAq63e4SHnc"
      },
      "outputs": [],
      "source": [
        "email = \"lautarolombardi19@gmail.com\"\n",
        "server = f\"https://ciberseguridad.diplomatura.unc.edu.ar/cripto/ecb-decrypt/{email}/encrypt\"\n",
        "\n",
        "def sendmessage_ecb(message):\n",
        "  req = requests.post(server,files={'message': base64.b64encode(bytes(message, 'ascii'))})\n",
        "  return base64.b64decode(req.text)"
      ]
    },
    {
      "cell_type": "code",
      "execution_count": null,
      "metadata": {
        "id": "15R0cF15V_X6"
      },
      "outputs": [],
      "source": [
        "def findBlockLength():\n",
        "  message = ''\n",
        "  start = len(sendmessage_ecb(message))\n",
        "  for i in range(1,17):\n",
        "    message = 'a' * i\n",
        "    resp = sendmessage_ecb(message)\n",
        "    if len(resp) > start:\n",
        "      return (message, len(resp))\n",
        "\n",
        "payload, msglength = findBlockLength()"
      ]
    },
    {
      "cell_type": "code",
      "execution_count": null,
      "metadata": {
        "colab": {
          "base_uri": "https://localhost:8080/"
        },
        "id": "iPPeUqvpaYiG",
        "outputId": "7bce9296-c69c-441f-f7d5-6ebf6a907bba"
      },
      "outputs": [
        {
          "name": "stdout",
          "output_type": "stream",
          "text": [
            "16 848\n"
          ]
        }
      ],
      "source": [
        "print(len(payload), msglength)\n",
        "# we got an entire block of padding and some bytes of clear text\n",
        "msglength = msglength - len(payload) - 16"
      ]
    },
    {
      "cell_type": "code",
      "execution_count": null,
      "metadata": {
        "colab": {
          "base_uri": "https://localhost:8080/"
        },
        "id": "sO2NWgXUakOz",
        "outputId": "f9d162a0-a716-43c6-b66a-965a04d556a4"
      },
      "outputs": [
        {
          "name": "stdout",
          "output_type": "stream",
          "text": [
            "...we must counterpose the overwhelming judgment provided by consistent\n",
            "observations and inferences by the thousands.  The earth is billions of\n",
            "years old and its living creatures are linked by ties of evolutionary\n",
            "descent.  Scientists stand accused of promoting dogma by so stating, but\n",
            "do we brand people illiberal when they proclaim that the earth is neither\n",
            "flat nor at the center of the universe?  Science *has* taught us some\n",
            "things with confidence!  Evolution on an ancient earth is as well\n",
            "established as our planet's shape and position.  Our continuing struggle\n",
            "to understand how evolution happens (the \"theory of evolution\") does not\n",
            "cast our documentation of its occurrence -- the \"fact of evolution\" --\n",
            "into \n",
            "...we must counterpose the overwhelming judgment provided by consistent\n",
            "observations and inferences by the thousands.  The earth is billions of\n",
            "years old and its living creatures are linked by ties of evolutionary\n",
            "descent.  Scientists stand accused of promoting dogma by so stating, but\n",
            "do we brand people illiberal when they proclaim that the earth is neither\n",
            "flat nor at the center of the universe?  Science *has* taught us some\n",
            "things with confidence!  Evolution on an ancient earth is as well\n",
            "established as our planet's shape and position.  Our continuing struggle\n",
            "to understand how evolution happens (the \"theory of evolution\") does not\n",
            "cast our documentation of its occurrence -- the \"fact of evolution\" --\n",
            "into doubt.\n",
            "- Stephen\n",
            "...we must counterpose the overwhelming judgment provided by consistent\n",
            "observations and inferences by the thousands.  The earth is billions of\n",
            "years old and its living creatures are linked by ties of evolutionary\n",
            "descent.  Scientists stand accused of promoting dogma by so stating, but\n",
            "do we brand people illiberal when they proclaim that the earth is neither\n",
            "flat nor at the center of the universe?  Science *has* taught us some\n",
            "things with confidence!  Evolution on an ancient earth is as well\n",
            "established as our planet's shape and position.  Our continuing struggle\n",
            "to understand how evolution happens (the \"theory of evolution\") does not\n",
            "cast our documentation of its occurrence -- the \"fact of evolution\" --\n",
            "into doubt.\n",
            "- Stephen Jay Gould, \"The\n",
            "...we must counterpose the overwhelming judgment provided by consistent\n",
            "observations and inferences by the thousands.  The earth is billions of\n",
            "years old and its living creatures are linked by ties of evolutionary\n",
            "descent.  Scientists stand accused of promoting dogma by so stating, but\n",
            "do we brand people illiberal when they proclaim that the earth is neither\n",
            "flat nor at the center of the universe?  Science *has* taught us some\n",
            "things with confidence!  Evolution on an ancient earth is as well\n",
            "established as our planet's shape and position.  Our continuing struggle\n",
            "to understand how evolution happens (the \"theory of evolution\") does not\n",
            "cast our documentation of its occurrence -- the \"fact of evolution\" --\n",
            "into doubt.\n",
            "- Stephen Jay Gould, \"The Verdict on Crea\n",
            "...we must counterpose the overwhelming judgment provided by consistent\n",
            "observations and inferences by the thousands.  The earth is billions of\n",
            "years old and its living creatures are linked by ties of evolutionary\n",
            "descent.  Scientists stand accused of promoting dogma by so stating, but\n",
            "do we brand people illiberal when they proclaim that the earth is neither\n",
            "flat nor at the center of the universe?  Science *has* taught us some\n",
            "things with confidence!  Evolution on an ancient earth is as well\n",
            "established as our planet's shape and position.  Our continuing struggle\n",
            "to understand how evolution happens (the \"theory of evolution\") does not\n",
            "cast our documentation of its occurrence -- the \"fact of evolution\" --\n",
            "into doubt.\n",
            "- Stephen Jay Gould, \"The Verdict on Creationism\", The Sk\n",
            "...we must counterpose the overwhelming judgment provided by consistent\n",
            "observations and inferences by the thousands.  The earth is billions of\n",
            "years old and its living creatures are linked by ties of evolutionary\n",
            "descent.  Scientists stand accused of promoting dogma by so stating, but\n",
            "do we brand people illiberal when they proclaim that the earth is neither\n",
            "flat nor at the center of the universe?  Science *has* taught us some\n",
            "things with confidence!  Evolution on an ancient earth is as well\n",
            "established as our planet's shape and position.  Our continuing struggle\n",
            "to understand how evolution happens (the \"theory of evolution\") does not\n",
            "cast our documentation of its occurrence -- the \"fact of evolution\" --\n",
            "into doubt.\n",
            "- Stephen Jay Gould, \"The Verdict on Creationism\", The Skeptical Inquirer\n",
            "...we must counterpose the overwhelming judgment provided by consistent\n",
            "observations and inferences by the thousands.  The earth is billions of\n",
            "years old and its living creatures are linked by ties of evolutionary\n",
            "descent.  Scientists stand accused of promoting dogma by so stating, but\n",
            "do we brand people illiberal when they proclaim that the earth is neither\n",
            "flat nor at the center of the universe?  Science *has* taught us some\n",
            "things with confidence!  Evolution on an ancient earth is as well\n",
            "established as our planet's shape and position.  Our continuing struggle\n",
            "to understand how evolution happens (the \"theory of evolution\") does not\n",
            "cast our documentation of its occurrence -- the \"fact of evolution\" --\n",
            "into doubt.\n",
            "- Stephen Jay Gould, \"The Verdict on Creationism\", The Skeptical Inquirer,\n",
            "  Vol XII No. \n"
          ]
        }
      ],
      "source": [
        "def bruteforce(target, source, decrypted):\n",
        "  charset =  string.whitespace + string.ascii_lowercase + string.ascii_uppercase + string.digits + string.punctuation\n",
        "  s1, s2 = len(target), len(decrypted)\n",
        "  for i in charset:\n",
        "    resp = sendmessage_ecb(target+decrypted+i)\n",
        "    if resp[s1+s2-15:s1+s2+1] == source:\n",
        "      return i\n",
        "  return 'f'\n",
        "\n",
        "def decryptme(secret_length, initial_message=''):\n",
        "  decrypt = initial_message\n",
        "  initial = 'a' * (secret_length-len(decrypt)-1)\n",
        "  while len(initial):\n",
        "    if len(initial)%16==0:\n",
        "      print(decrypt)\n",
        "    cipher = sendmessage_ecb(initial)\n",
        "    new = bruteforce(initial, cipher[secret_length-16:secret_length], decrypt)\n",
        "    decrypt += new\n",
        "    initial = initial[1:]\n",
        "  return decrypt\n",
        "\n",
        "initialmsg2 = \"\"\"...we must counterpose the overwhelming judgment provided by consistent\n",
        "observations and inferences by the thousands.  The earth is billions of\n",
        "years old and its living creatures are linked by ties of evolutionary\n",
        "descent.  Scientists stand accused of promoting dogma by so stating, but\n",
        "do we brand people illiberal when they proclaim that the earth is neither\n",
        "flat nor at the center of the universe?  Science *has* taught us some\n",
        "things with confidence!  Evolution on an ancient earth is as well\n",
        "established as our planet's shape and position.  Our continuing struggle\n",
        "to understand how evolution happens (the \"theory of evolution\") does not\n",
        "cast our documentation of its occurrence -- the \"fact of evolution\" --\n",
        "into\"\"\"\n",
        "decrypted = decryptme(msglength, initialmsg2)\n",
        "\n",
        "print(decrypted)"
      ]
    },
    {
      "cell_type": "code",
      "execution_count": null,
      "metadata": {
        "colab": {
          "base_uri": "https://localhost:8080/"
        },
        "id": "vXU3rF0G_-kJ",
        "outputId": "f8d41b11-4466-4737-e518-78d28a50f768"
      },
      "outputs": [
        {
          "name": "stdout",
          "output_type": "stream",
          "text": [
            "815\n",
            "Lo siento, siga participando.\n",
            "\n"
          ]
        }
      ],
      "source": [
        "print(len(decrypted))\n",
        "answer = f'https://ciberseguridad.diplomatura.unc.edu.ar/cripto/ecb-decrypt/{email}/answer'\n",
        "send = requests.post(answer,files={'message': decrypted})\n",
        "print(send.text)"
      ]
    },
    {
      "cell_type": "markdown",
      "metadata": {
        "id": "z1DNCsjKDWkp"
      },
      "source": [
        "# Padding oracle\n",
        "\n",
        "En este desafío, el servidor produce un mensaje cifrado con AES en modo CBC y codificado en base64. El IV es enviado como primer bloque del texto cifrado.\n",
        "\n",
        "El desafío consiste en descifrar el mensaje secreto.\n",
        "\n",
        "Si se realiza un requerimiento POST a una url de la forma:\n",
        "\n",
        "https://ciberseguridad.diplomatura.unc.edu.ar/cripto/padding-oracle/<email\\>/decrypt\n",
        "con contenido de tipo FORM, y un campo message con un texto cifrado codificado en base64, el servidor responderá:\n",
        "\n",
        "- OK, con código 200, si puede descifrar.\n",
        "- el mensaje no ha sido codificado en base64, con código 400 (Bad Request), si no está correctamente codificado en base64.\n",
        "- Bad padding bytes, con código 400 (Bad Request), si el relleno es incorrecto o el tamaño del mensaje decodificado no es múltiplo del tamaño de bloque."
      ]
    },
    {
      "cell_type": "markdown",
      "metadata": {
        "id": "lXtU5JkhFn-c"
      },
      "source": [
        "# Analisis\n",
        "\n",
        "Utilizaremos la siguiente notación:\n",
        "\n",
        "- $P_i$ es el $i$-ésimo bloque del texto claro.\n",
        "- $C_i$ es el $i$-ésimo bloque del texto cifrado.\n",
        "- $P_i = D_k(C_i) \\oplus C_{i-1}$\n",
        "- Llamaremos $D_i$ a $D_k(C_i)$, es decir, al resultado de aplicar la función de descifrado sobre un bloque de texto cifrado.\n",
        "- Llamaremos $B_{i,j} $ al $j$-esimo byte del bloque $i$,donde puede $B$ ser $C$, $P$ o $D$ . Por ejemplo, $C_{1,16}$ es el último byte del primer bloque del texto cifrado.\n",
        "\n",
        "Una posible secuencia de pasos para resolver el desafío puede ser la siguiente:\n",
        "\n",
        "1. Enviar a https://ciberseguridad.diplomatura.unc.edu.ar/cripto/padding-oracle/<email\\>/decrypt los dos primeros bloques del texto cifrado. Cuando el servidor lo descifre, pueden pasar dos cosas:\n",
        "  - El resultado tiene un relleno válido. Esto significa que lo más probable es que el texto descifrado termine con un 1, indicando que existe un único byte de relleno. En este caso el servidor devolverá un código 200 con el mensaje **OK**.\n",
        "  - Si el resultado de descifrar no genera un relleno válido, retornará un error 400 con el texto **Bad padding bytes**. Esta opción es la más probable. En ese caso cambiamos el último byte del primer bloque y repetimos el intento hasta que obtenemos un **OK**.\n",
        "2. Ahora hemos obtenido un primer bloque $C'_1$ tal que produce un 1 en el último byte del segundo bloque: $D_{2,16} \\oplus C'_{1,16} = 1$. Pero sabemos que $P_{2,16} = D_{2,16} \\oplus C_{1,16}$, por lo que $P_{2,16} = 1 \\oplus C'_{1,16} \\oplus C_{1,16}$. Hemos averiguado el último byte del segundo bloque enviado.\n",
        "3. Como conocemos su valor, podemos manipular el último byte del primer bloque para que ahora descifre al valor 2, y repetimos el procedimiento, cambiando el penúltimo byte del primer bloque. Cuando obtengamos **OK**, lo más probable será que hayamos producido un relleno con los últimos dos bytes con el valor 2.\n",
        "4. Repetimos el procedimiento hasta descifrar todo el bloque, y luego repetimos con todos los bloques.\n",
        "\n",
        "Con un máximo de 4096 intentos por bloque, debería ser posible descifrar el mensaje completo."
      ]
    },
    {
      "cell_type": "markdown",
      "metadata": {
        "id": "FLaerfgwHmgt"
      },
      "source": []
    },
    {
      "cell_type": "code",
      "execution_count": null,
      "metadata": {
        "id": "-PJPgAZgIZAg"
      },
      "outputs": [],
      "source": [
        "import base64\n",
        "import requests\n",
        "import string"
      ]
    },
    {
      "cell_type": "code",
      "execution_count": null,
      "metadata": {
        "id": "YypbSbffeotS"
      },
      "outputs": [],
      "source": [
        "email = \"lautarolombardi19@gmail.com\"\n",
        "server = f\"https://ciberseguridad.diplomatura.unc.edu.ar/cripto/padding-oracle/{email}/decrypt\"\n",
        "challenge = f\"https://ciberseguridad.diplomatura.unc.edu.ar/cripto/padding-oracle/{email}/challenge\"\n",
        "\n",
        "def get_cipher():\n",
        "  req = requests.get(challenge)\n",
        "  return base64.b64decode(req.text)\n",
        "\n",
        "def bad_padding(message)->bool:\n",
        "  req = requests.post(server,files={'message': base64.b64encode(message)})\n",
        "  return 'OK' not in req.text"
      ]
    },
    {
      "cell_type": "code",
      "execution_count": null,
      "metadata": {
        "id": "U3ERQrfVfzG7",
        "colab": {
          "base_uri": "https://localhost:8080/",
          "height": 389
        },
        "outputId": "7b49524e-bb11-4d40-a788-fdcc35e65fbe"
      },
      "outputs": [
        {
          "output_type": "stream",
          "name": "stdout",
          "text": [
            "b'\\xf2\\xa0mP\\x7fF\\x82\\x85/\\xf9\\xd9h\\x07F\\x96\\xed\\xd3\\xa1D\\r\\xee\\xa1u9\\x8c\\xd9\\xd8\\xc6\\xa3\\x08g\\xce\\x0b\\xfc7\\xacC\\x9ce\"g\\xab\\x96\\x18\\xf0~`\\xfa\\xf3\\xfdD\\x94n\\xa9\\xc3j\\xaf\\xe1\\x0f\\xaa\\xc3\\xa2\\x99\\xba\\x9e\\x18+&5\\x9f\\xc0\\x86q>n\\x8e\\xa0\\xe3\\x1e\\x13\\x04\\x0b\\xb0H\\xb4\\\\\\xd9,\\x993\\x19\\xb0\\x1c\\xef\\x08\\x04\\xdb\\xc9\\xa0\\x95\\x9a\\x91F\\xd3\\xde\\xfaB\\x12\\xcaoKi\\x84\\xfcc\\xe6{\\x87Q)\\x0f\\x9d\\x1d\\x99\\xe7\\xe0\\x9b\\xa4\\x92\\x99\\xf6\\xd3{}S\\xf3\\xfc\\x904\\xe1\\xf8\\x84e\\xdf\\x13\\t\\xf43#d*Cy\\xf59\\xd8\\xe0\\xc2$C\\xab\\xbc\\xbd!\\xdcL\\xdc]:\\xec.5{S\\x173T1Lg\\xa81T\\x95B\\xb3Z\\x9bXzv\\xce\\x81\\xcbj\\xf2\\xd1\\xbc;\\xba\\x02\\xec>4O\\xb8\\x90\\xb8\\xe3f9G\\xfb\\x82\\xe4x\\xcc\\x96\\xc2F\\xc4~\\xed=e\\xefop\\x9c\\x8a\\x84\\xb4`\\xaf\\xfe\\x1c\\x11\\xd0\\xa2\\r4\\xc5}.\\xc4\\xf0\\x12\\xa0\\x1e{\\x0e\\xcd\\xdb\\xed\\x88\\x81\\x8d\\x0e\\xa3~\\xd3\\x0c\\x1e\\x84\\xe2\\x9d\\xadE\\x0b\\xfdn\\xb1\\x05\\x07_\\xb0\\xebA\\xcc \\xc6\\xe3s\\x97\\x0f\\x02\\x87{A\\xba\\x1a\\x0c\\xf5B\\xe0\"\\xbb2}\\xc9Z<\\xe1{\\xadX{\\'\\x052\\xfe\\x94w\\x80\\x93\\xe1MGFb\\x19\\xbb\\xc1\\x99!,\\x97\\xd9\\xcb\\xd4k\\xd6\\x16\\x9am5\\xb7\\xa8\\xcem{\\x08S\\xce\\x04.\\xfd\\x1fZ\\xfd{0^\\xe8\\xe7d\\xd25nY7\\x94\\xa1\\n\\x8c\\xcb\\x08{\\x01*\\x05\\xe6\\xccMc|\\x0f)\\xda\\xe8a\\xb4\\x8e\\x02\\x11\\xab\\xc1\\xf8\\xddvXd\\xeb\\xf4\"Cp\\x06I8mw\\x8b\\xaf4\\xbb,/\\xc2\\x90mm\\xaa=kN'\n"
          ]
        },
        {
          "output_type": "error",
          "ename": "NameError",
          "evalue": "ignored",
          "traceback": [
            "\u001b[0;31m---------------------------------------------------------------------------\u001b[0m",
            "\u001b[0;31mNameError\u001b[0m                                 Traceback (most recent call last)",
            "\u001b[0;32m<ipython-input-2-b786e677aa16>\u001b[0m in \u001b[0;36m<cell line: 36>\u001b[0;34m()\u001b[0m\n\u001b[1;32m     34\u001b[0m                 \u001b[0mprint\u001b[0m\u001b[0;34m(\u001b[0m\u001b[0mfinal\u001b[0m\u001b[0;34m)\u001b[0m\u001b[0;34m\u001b[0m\u001b[0;34m\u001b[0m\u001b[0m\n\u001b[1;32m     35\u001b[0m         \u001b[0;32mreturn\u001b[0m \u001b[0mguessed_clear\u001b[0m\u001b[0;34m\u001b[0m\u001b[0;34m\u001b[0m\u001b[0m\n\u001b[0;32m---> 36\u001b[0;31m \u001b[0mmsg\u001b[0m \u001b[0;34m=\u001b[0m \u001b[0mattack\u001b[0m\u001b[0;34m(\u001b[0m\u001b[0mcipher\u001b[0m\u001b[0;34m)\u001b[0m\u001b[0;34m\u001b[0m\u001b[0;34m\u001b[0m\u001b[0m\n\u001b[0m\u001b[1;32m     37\u001b[0m \u001b[0mprint\u001b[0m\u001b[0;34m(\u001b[0m\u001b[0mmsg\u001b[0m\u001b[0;34m)\u001b[0m\u001b[0;34m\u001b[0m\u001b[0;34m\u001b[0m\u001b[0m\n",
            "\u001b[0;32m<ipython-input-2-b786e677aa16>\u001b[0m in \u001b[0;36mattack\u001b[0;34m(ciphertext, bsize)\u001b[0m\n\u001b[1;32m     20\u001b[0m                         \u001b[0;32mfor\u001b[0m \u001b[0mpadder_index\u001b[0m \u001b[0;32min\u001b[0m \u001b[0mrange\u001b[0m\u001b[0;34m(\u001b[0m\u001b[0;36m1\u001b[0m\u001b[0;34m,\u001b[0m \u001b[0mnew_pad_len\u001b[0m\u001b[0;34m)\u001b[0m\u001b[0;34m:\u001b[0m\u001b[0;34m\u001b[0m\u001b[0;34m\u001b[0m\u001b[0m\n\u001b[1;32m     21\u001b[0m                                 \u001b[0mhacked_ciphertext_tail\u001b[0m \u001b[0;34m+=\u001b[0m \u001b[0mbytes\u001b[0m\u001b[0;34m(\u001b[0m\u001b[0;34m[\u001b[0m\u001b[0mnew_pad_len\u001b[0m \u001b[0;34m^\u001b[0m \u001b[0mdecoded_bytes\u001b[0m\u001b[0;34m[\u001b[0m\u001b[0mbyte\u001b[0m \u001b[0;34m+\u001b[0m \u001b[0mpadder_index\u001b[0m\u001b[0;34m]\u001b[0m\u001b[0;34m]\u001b[0m\u001b[0;34m)\u001b[0m\u001b[0;34m\u001b[0m\u001b[0;34m\u001b[0m\u001b[0m\n\u001b[0;32m---> 22\u001b[0;31m                         \u001b[0mcharset\u001b[0m \u001b[0;34m=\u001b[0m  \u001b[0mstring\u001b[0m\u001b[0;34m.\u001b[0m\u001b[0mwhitespace\u001b[0m \u001b[0;34m+\u001b[0m \u001b[0mstring\u001b[0m\u001b[0;34m.\u001b[0m\u001b[0mascii_lowercase\u001b[0m \u001b[0;34m+\u001b[0m \u001b[0mstring\u001b[0m\u001b[0;34m.\u001b[0m\u001b[0mascii_uppercase\u001b[0m \u001b[0;34m+\u001b[0m \u001b[0mstring\u001b[0m\u001b[0;34m.\u001b[0m\u001b[0mdigits\u001b[0m \u001b[0;34m+\u001b[0m \u001b[0mstring\u001b[0m\u001b[0;34m.\u001b[0m\u001b[0mpunctuation\u001b[0m\u001b[0;34m\u001b[0m\u001b[0;34m\u001b[0m\u001b[0m\n\u001b[0m\u001b[1;32m     23\u001b[0m \u001b[0;34m\u001b[0m\u001b[0m\n\u001b[1;32m     24\u001b[0m                         \u001b[0;32mfor\u001b[0m \u001b[0mi\u001b[0m \u001b[0;32min\u001b[0m \u001b[0mrange\u001b[0m\u001b[0;34m(\u001b[0m\u001b[0;36m256\u001b[0m\u001b[0;34m)\u001b[0m\u001b[0;34m:\u001b[0m\u001b[0;34m\u001b[0m\u001b[0;34m\u001b[0m\u001b[0m\n",
            "\u001b[0;31mNameError\u001b[0m: name 'string' is not defined"
          ]
        }
      ],
      "source": [
        "cipher = get_cipher()\n",
        "print(cipher)\n",
        "BLOCK_SIZE = 16 # AES-128\n",
        "# https://github.com/TheCrowned/padding-oracle-attack/blob/master/attack.py\n",
        "def attack(ciphertext, bsize=BLOCK_SIZE):\n",
        "    final = b''\n",
        "    blocks = len(ciphertext)//bsize\n",
        "    charset =  set(string.whitespace + string.ascii_lowercase + string.ascii_uppercase + string.digits + string.punctuation)\n",
        "    for block_n in range(blocks-1):\n",
        "        guessed_clear = b''\n",
        "        # take first 2 blocks, then first 3,...\n",
        "        split_ciphertext = ciphertext[block_n*bsize:block_n*bsize+bsize*2]\n",
        "        #output of block cipher decoding values\n",
        "        decoded_bytes = b'?' * BLOCK_SIZE\n",
        "        for byte in range(bsize-1, -1, -1):\n",
        "            new_pad_len = bsize - byte #(1, 2, 3...)\n",
        "\n",
        "            #Build hacked ciphertext tail with values to obtain desired padding\n",
        "            hacked_ciphertext_tail = b''\n",
        "            for padder_index in range(1, new_pad_len):\n",
        "                hacked_ciphertext_tail += bytes([new_pad_len ^ decoded_bytes[byte + padder_index]])\n",
        "\n",
        "            for i in range(256):\n",
        "                attack_str =  bytes([i ^ split_ciphertext[byte]]) #take last byte from iv, then second to last, then third to last\n",
        "                if not (32 <= (i ^ new_pad_len) <= 126): #if not printable character,\n",
        "                    continue\n",
        "                hacked_ciphertext = split_ciphertext[:byte] + attack_str + hacked_ciphertext_tail + split_ciphertext[byte + 1 + new_pad_len - 1:]\n",
        "                if not bad_padding(hacked_ciphertext):\n",
        "                    # C'_{i,j} (es hacked_[byte]) ^ d_{i,j} = new_pad_len => C'_{i,j} ^  new_pad_len  = d_{i,j}\n",
        "                    decoded_bytes = decoded_bytes[:byte] + bytes([hacked_ciphertext[byte] ^ new_pad_len]) + decoded_bytes[byte + 1:]\n",
        "                    # i = C'_{i,j} ^ C_{i,j} por construccion de la attack string\n",
        "                    guessed_clear = bytes([i^ new_pad_len]) + guessed_clear\n",
        "                    break\n",
        "        final += guessed_clear\n",
        "        print(final)\n",
        "    return guessed_clear\n",
        "msg = attack(cipher)\n",
        "print(msg)"
      ]
    },
    {
      "cell_type": "code",
      "source": [
        "import base64\n",
        "import requests\n",
        "import time\n",
        "import threading\n",
        "\n",
        "email = \"lautarolombardi19@gmail.com\"\n",
        "server = f\"https://ciberseguridad.diplomatura.unc.edu.ar/cripto/padding-oracle/{email}/decrypt\"\n",
        "challenge = f\"https://ciberseguridad.diplomatura.unc.edu.ar/cripto/padding-oracle/{email}/challenge\"\n",
        "\n",
        "def get_cipher():\n",
        "  req = requests.get(challenge)\n",
        "  return base64.b64decode(req.text)\n",
        "\n",
        "def bad_padding(message)->bool:\n",
        "  req = requests.post(server,files={'message': base64.b64encode(message)})\n",
        "  return 'OK' not in req.text\n",
        "\n",
        "cipher = get_cipher()\n",
        "print(cipher)\n",
        "BLOCK_SIZE = 16  # AES-128\n",
        "\n",
        "def worker(block, results_dict, lock):\n",
        "    bsize = BLOCK_SIZE\n",
        "    final = b''\n",
        "    # take first 2 blocks, then first 3,...\n",
        "    split_ciphertext = ciphertext[block*bsize:block*bsize+bsize*2]\n",
        "    #output of block cipher decoding values\n",
        "    decoded_bytes = b'?' * BLOCK_SIZE\n",
        "    print(f'Block {block} started')\n",
        "    for byte in range(bsize-1, -1, -1):\n",
        "        new_pad_len = bsize - byte #(1, 2, 3...)\n",
        "\n",
        "        #Build hacked ciphertext tail with values to obtain desired padding\n",
        "        hacked_ciphertext_tail = b''\n",
        "        for padder_index in range(1, new_pad_len):\n",
        "            hacked_ciphertext_tail += bytes([new_pad_len ^ decoded_bytes[byte + padder_index]])\n",
        "\n",
        "        guessed_clear = b''\n",
        "        for i in range(256):\n",
        "            attack_str =  bytes([i ^ split_ciphertext[byte]]) #take last byte from iv, then second to last, then third to last\n",
        "            if not (32 <= (i ^ new_pad_len) <= 126): #if not printable character,\n",
        "                continue\n",
        "            hacked_ciphertext = split_ciphertext[:byte] + attack_str + hacked_ciphertext_tail + split_ciphertext[byte + 1 + new_pad_len - 1:]\n",
        "            if not bad_padding(hacked_ciphertext):\n",
        "                # C'_{i,j} (es hacked_[byte]) ^ d_{i,j} = new_pad_len => d_{i,j} = C'_{i,j} ^ new_pad_len\n",
        "                decoded_bytes = decoded_bytes[:byte] + bytes([hacked_ciphertext[byte] ^ new_pad_len]) + decoded_bytes[byte + 1:]\n",
        "                # i = C'_{i,j} ^ C_{i,j} por construccion de la attack string\n",
        "                guessed_clear = bytes([i^ new_pad_len]) + guessed_clear\n",
        "                break\n",
        "        final += guessed_clear\n",
        "    with lock:\n",
        "        results_dict[block] = final[::-1]\n",
        "\n",
        "def format_time(seconds):\n",
        "    minutes = int(seconds // 60)\n",
        "    seconds %= 60\n",
        "    return f\"{minutes} minutes, {seconds:.2f} seconds\"\n",
        "\n",
        "\n",
        "def parallel_attack(ciphertext, bsize=BLOCK_SIZE):\n",
        "    # Split the ciphertext into blocks for each worker\n",
        "    blocks = len(ciphertext) // bsize\n",
        "    block_ranges = [i for i in range(blocks - 1)]  # Define block ranges for each worker\n",
        "\n",
        "    # Create a dictionary to store results\n",
        "    results_dict = {}\n",
        "\n",
        "    lock = threading.Lock()\n",
        "    start_time = time.time()\n",
        "    # Create threads for each block range\n",
        "    threads = []\n",
        "    for block_range in block_ranges:\n",
        "        t = threading.Thread(target=worker, args=(block_range, results_dict, lock))\n",
        "        threads.append(t)\n",
        "        t.start()\n",
        "\n",
        "    # Wait for all threads to complete\n",
        "    for t in threads:\n",
        "        t.join()\n",
        "    # Measure the end time for the entire process\n",
        "    end_time = time.time()\n",
        "\n",
        "    # Calculate the total elapsed time\n",
        "    total_elapsed_time = end_time - start_time\n",
        "\n",
        "    # Format and print the total elapsed time\n",
        "    formatted_time = format_time(total_elapsed_time)\n",
        "    print(f\"Total elapsed time: {formatted_time}\")\n",
        "\n",
        "    return results_dict\n",
        "# Call the parallel_attack function to initiate the parallelized attack\n",
        "result_dict = parallel_attack(cipher)\n",
        "concat = b''\n",
        "# Print the results for each worker\n",
        "for index in range(len(result_dict)):\n",
        "    concat += result_dict[index]"
      ],
      "metadata": {
        "id": "5W0G-GjOyJP5",
        "colab": {
          "base_uri": "https://localhost:8080/",
          "height": 691
        },
        "outputId": "9194965d-a2b9-42ee-d2e0-67d79e5984f3"
      },
      "execution_count": null,
      "outputs": [
        {
          "output_type": "stream",
          "name": "stdout",
          "text": [
            "b'\\xf2\\xa0mP\\x7fF\\x82\\x85/\\xf9\\xd9h\\x07F\\x96\\xed\\xd3\\xa1D\\r\\xee\\xa1u9\\x8c\\xd9\\xd8\\xc6\\xa3\\x08g\\xce\\x0b\\xfc7\\xacC\\x9ce\"g\\xab\\x96\\x18\\xf0~`\\xfa\\xf3\\xfdD\\x94n\\xa9\\xc3j\\xaf\\xe1\\x0f\\xaa\\xc3\\xa2\\x99\\xba\\x9e\\x18+&5\\x9f\\xc0\\x86q>n\\x8e\\xa0\\xe3\\x1e\\x13\\x04\\x0b\\xb0H\\xb4\\\\\\xd9,\\x993\\x19\\xb0\\x1c\\xef\\x08\\x04\\xdb\\xc9\\xa0\\x95\\x9a\\x91F\\xd3\\xde\\xfaB\\x12\\xcaoKi\\x84\\xfcc\\xe6{\\x87Q)\\x0f\\x9d\\x1d\\x99\\xe7\\xe0\\x9b\\xa4\\x92\\x99\\xf6\\xd3{}S\\xf3\\xfc\\x904\\xe1\\xf8\\x84e\\xdf\\x13\\t\\xf43#d*Cy\\xf59\\xd8\\xe0\\xc2$C\\xab\\xbc\\xbd!\\xdcL\\xdc]:\\xec.5{S\\x173T1Lg\\xa81T\\x95B\\xb3Z\\x9bXzv\\xce\\x81\\xcbj\\xf2\\xd1\\xbc;\\xba\\x02\\xec>4O\\xb8\\x90\\xb8\\xe3f9G\\xfb\\x82\\xe4x\\xcc\\x96\\xc2F\\xc4~\\xed=e\\xefop\\x9c\\x8a\\x84\\xb4`\\xaf\\xfe\\x1c\\x11\\xd0\\xa2\\r4\\xc5}.\\xc4\\xf0\\x12\\xa0\\x1e{\\x0e\\xcd\\xdb\\xed\\x88\\x81\\x8d\\x0e\\xa3~\\xd3\\x0c\\x1e\\x84\\xe2\\x9d\\xadE\\x0b\\xfdn\\xb1\\x05\\x07_\\xb0\\xebA\\xcc \\xc6\\xe3s\\x97\\x0f\\x02\\x87{A\\xba\\x1a\\x0c\\xf5B\\xe0\"\\xbb2}\\xc9Z<\\xe1{\\xadX{\\'\\x052\\xfe\\x94w\\x80\\x93\\xe1MGFb\\x19\\xbb\\xc1\\x99!,\\x97\\xd9\\xcb\\xd4k\\xd6\\x16\\x9am5\\xb7\\xa8\\xcem{\\x08S\\xce\\x04.\\xfd\\x1fZ\\xfd{0^\\xe8\\xe7d\\xd25nY7\\x94\\xa1\\n\\x8c\\xcb\\x08{\\x01*\\x05\\xe6\\xccMc|\\x0f)\\xda\\xe8a\\xb4\\x8e\\x02\\x11\\xab\\xc1\\xf8\\xddvXd\\xeb\\xf4\"Cp\\x06I8mw\\x8b\\xaf4\\xbb,/\\xc2\\x90mm\\xaa=kN'\n"
          ]
        },
        {
          "output_type": "error",
          "ename": "NameError",
          "evalue": "ignored",
          "traceback": [
            "\u001b[0;31m---------------------------------------------------------------------------\u001b[0m",
            "\u001b[0;31mRemoteTraceback\u001b[0m                           Traceback (most recent call last)",
            "\u001b[0;31mRemoteTraceback\u001b[0m: \n\"\"\"\nTraceback (most recent call last):\n  File \"/usr/lib/python3.10/multiprocessing/pool.py\", line 125, in worker\n    result = (True, func(*args, **kwds))\n  File \"/usr/lib/python3.10/multiprocessing/pool.py\", line 51, in starmapstar\n    return list(itertools.starmap(args[0], args[1]))\n  File \"<ipython-input-1-3b1676ac1044>\", line 26, in worker\n    results_dict[blocks] = guessed_clear\nNameError: name 'guessed_clear' is not defined\n\"\"\"",
            "\nThe above exception was the direct cause of the following exception:\n",
            "\u001b[0;31mNameError\u001b[0m                                 Traceback (most recent call last)",
            "\u001b[0;32m<ipython-input-1-3b1676ac1044>\u001b[0m in \u001b[0;36m<cell line: 43>\u001b[0;34m()\u001b[0m\n\u001b[1;32m     41\u001b[0m \u001b[0;34m\u001b[0m\u001b[0m\n\u001b[1;32m     42\u001b[0m \u001b[0;31m# Call the parallel_attack function to initiate the parallelized attack\u001b[0m\u001b[0;34m\u001b[0m\u001b[0;34m\u001b[0m\u001b[0m\n\u001b[0;32m---> 43\u001b[0;31m \u001b[0mresult_dict\u001b[0m \u001b[0;34m=\u001b[0m \u001b[0mparallel_attack\u001b[0m\u001b[0;34m(\u001b[0m\u001b[0mcipher\u001b[0m\u001b[0;34m)\u001b[0m\u001b[0;34m\u001b[0m\u001b[0;34m\u001b[0m\u001b[0m\n\u001b[0m\u001b[1;32m     44\u001b[0m \u001b[0;34m\u001b[0m\u001b[0m\n\u001b[1;32m     45\u001b[0m \u001b[0;31m# Print the results for each worker\u001b[0m\u001b[0;34m\u001b[0m\u001b[0;34m\u001b[0m\u001b[0m\n",
            "\u001b[0;32m<ipython-input-1-3b1676ac1044>\u001b[0m in \u001b[0;36mparallel_attack\u001b[0;34m(ciphertext, bsize)\u001b[0m\n\u001b[1;32m     36\u001b[0m         \u001b[0;31m# Create a pool of workers and process the blocks in parallel\u001b[0m\u001b[0;34m\u001b[0m\u001b[0;34m\u001b[0m\u001b[0m\n\u001b[1;32m     37\u001b[0m         \u001b[0;32mwith\u001b[0m \u001b[0mPool\u001b[0m\u001b[0;34m(\u001b[0m\u001b[0;34m)\u001b[0m \u001b[0;32mas\u001b[0m \u001b[0mpool\u001b[0m\u001b[0;34m:\u001b[0m\u001b[0;34m\u001b[0m\u001b[0;34m\u001b[0m\u001b[0m\n\u001b[0;32m---> 38\u001b[0;31m             \u001b[0mpool\u001b[0m\u001b[0;34m.\u001b[0m\u001b[0mstarmap\u001b[0m\u001b[0;34m(\u001b[0m\u001b[0mworker\u001b[0m\u001b[0;34m,\u001b[0m \u001b[0;34m[\u001b[0m\u001b[0;34m(\u001b[0m\u001b[0mblock\u001b[0m\u001b[0;34m,\u001b[0m \u001b[0mresults_dict\u001b[0m\u001b[0;34m)\u001b[0m \u001b[0;32mfor\u001b[0m \u001b[0mblock\u001b[0m \u001b[0;32min\u001b[0m \u001b[0mblocks\u001b[0m\u001b[0;34m]\u001b[0m\u001b[0;34m)\u001b[0m\u001b[0;34m\u001b[0m\u001b[0;34m\u001b[0m\u001b[0m\n\u001b[0m\u001b[1;32m     39\u001b[0m \u001b[0;34m\u001b[0m\u001b[0m\n\u001b[1;32m     40\u001b[0m         \u001b[0;32mreturn\u001b[0m \u001b[0mresults_dict\u001b[0m\u001b[0;34m\u001b[0m\u001b[0;34m\u001b[0m\u001b[0m\n",
            "\u001b[0;32m/usr/lib/python3.10/multiprocessing/pool.py\u001b[0m in \u001b[0;36mstarmap\u001b[0;34m(self, func, iterable, chunksize)\u001b[0m\n\u001b[1;32m    373\u001b[0m         \u001b[0;31m`\u001b[0m\u001b[0mfunc\u001b[0m\u001b[0;31m`\u001b[0m \u001b[0;32mand\u001b[0m \u001b[0;34m(\u001b[0m\u001b[0ma\u001b[0m\u001b[0;34m,\u001b[0m \u001b[0mb\u001b[0m\u001b[0;34m)\u001b[0m \u001b[0mbecomes\u001b[0m \u001b[0mfunc\u001b[0m\u001b[0;34m(\u001b[0m\u001b[0ma\u001b[0m\u001b[0;34m,\u001b[0m \u001b[0mb\u001b[0m\u001b[0;34m)\u001b[0m\u001b[0;34m.\u001b[0m\u001b[0;34m\u001b[0m\u001b[0;34m\u001b[0m\u001b[0m\n\u001b[1;32m    374\u001b[0m         '''\n\u001b[0;32m--> 375\u001b[0;31m         \u001b[0;32mreturn\u001b[0m \u001b[0mself\u001b[0m\u001b[0;34m.\u001b[0m\u001b[0m_map_async\u001b[0m\u001b[0;34m(\u001b[0m\u001b[0mfunc\u001b[0m\u001b[0;34m,\u001b[0m \u001b[0miterable\u001b[0m\u001b[0;34m,\u001b[0m \u001b[0mstarmapstar\u001b[0m\u001b[0;34m,\u001b[0m \u001b[0mchunksize\u001b[0m\u001b[0;34m)\u001b[0m\u001b[0;34m.\u001b[0m\u001b[0mget\u001b[0m\u001b[0;34m(\u001b[0m\u001b[0;34m)\u001b[0m\u001b[0;34m\u001b[0m\u001b[0;34m\u001b[0m\u001b[0m\n\u001b[0m\u001b[1;32m    376\u001b[0m \u001b[0;34m\u001b[0m\u001b[0m\n\u001b[1;32m    377\u001b[0m     def starmap_async(self, func, iterable, chunksize=None, callback=None,\n",
            "\u001b[0;32m/usr/lib/python3.10/multiprocessing/pool.py\u001b[0m in \u001b[0;36mget\u001b[0;34m(self, timeout)\u001b[0m\n\u001b[1;32m    772\u001b[0m             \u001b[0;32mreturn\u001b[0m \u001b[0mself\u001b[0m\u001b[0;34m.\u001b[0m\u001b[0m_value\u001b[0m\u001b[0;34m\u001b[0m\u001b[0;34m\u001b[0m\u001b[0m\n\u001b[1;32m    773\u001b[0m         \u001b[0;32melse\u001b[0m\u001b[0;34m:\u001b[0m\u001b[0;34m\u001b[0m\u001b[0;34m\u001b[0m\u001b[0m\n\u001b[0;32m--> 774\u001b[0;31m             \u001b[0;32mraise\u001b[0m \u001b[0mself\u001b[0m\u001b[0;34m.\u001b[0m\u001b[0m_value\u001b[0m\u001b[0;34m\u001b[0m\u001b[0;34m\u001b[0m\u001b[0m\n\u001b[0m\u001b[1;32m    775\u001b[0m \u001b[0;34m\u001b[0m\u001b[0m\n\u001b[1;32m    776\u001b[0m     \u001b[0;32mdef\u001b[0m \u001b[0m_set\u001b[0m\u001b[0;34m(\u001b[0m\u001b[0mself\u001b[0m\u001b[0;34m,\u001b[0m \u001b[0mi\u001b[0m\u001b[0;34m,\u001b[0m \u001b[0mobj\u001b[0m\u001b[0;34m)\u001b[0m\u001b[0;34m:\u001b[0m\u001b[0;34m\u001b[0m\u001b[0;34m\u001b[0m\u001b[0m\n",
            "\u001b[0;31mNameError\u001b[0m: name 'guessed_clear' is not defined"
          ]
        }
      ]
    },
    {
      "cell_type": "code",
      "execution_count": null,
      "metadata": {
        "id": "JSbmc1F8LnsB",
        "colab": {
          "base_uri": "https://localhost:8080/"
        },
        "outputId": "104cdd61-4d87-4194-db06-0a0fcca080bc"
      },
      "outputs": [
        {
          "output_type": "stream",
          "name": "stdout",
          "text": [
            "A fitter fits;\t\t\t\tThough sinners sin\n",
            "A cutter cuts;\t\t\t\tAnd thinners thin\n",
            "And an aircraft spotter spots;\t\tAnd paper-blotters blot\n",
            "A baby-sitter\t\t\t\tI've never yet\n",
            "Baby-sits --\t\t\t\tHad letters let\n",
            "But an otter never ots.\t\t\tOr seen an otter ot.\n",
            "\n",
            "A batter bats\n",
            "(Or scatters scats);\n",
            "A potting shed's for potting;\n",
            "But no one's found\n",
            "A bounder bound\n",
            "Or caught an otter otting.\n",
            "\t\t-- Ralph Lewin\n"
          ]
        }
      ],
      "source": [
        "BLOCK_SIZE = 16\n",
        "msg4 = bytearray(b\"\\t\\t;stif rettif Asrennis hguohT\\t\\tuc rettuc A\\nnis nniht dnA\\t\\t\\t\\t;st na dnA\\nniht srerettops tfarcriapap dnA\\t\\t;stops tolb srettolb-re\\t\\trettis-ybab A\\ntey reven ev'I\\t\\t\\t\\t\\t-- stis-ybaB\\ntel srettel daH\\ten retto na tuB\\nes rO\\t\\t\\t.sto rev\\n.to retto na ne(\\nstab rettab A\\ntacs srettacs rOhs gnittop A\\n;)sgnittop rof s'def s'eno on tuB\\n;b rednuob A\\ndnuoa thguac rO\\ndnuo\\n.gnitto retto nniweL hplaR --\\t\\t\")\n",
        "msg4 = msg4[::-1]\n",
        "\n",
        "part = lambda x, n: [x[i:i+16] for i in range(0, len(x), 16)]\n",
        "msg4 = bytearray().join(part(msg4,BLOCK_SIZE)[::-1])\n",
        "\n",
        "msgposta = msg4.decode('ascii')\n",
        "print(msgposta)\n"
      ]
    },
    {
      "cell_type": "code",
      "execution_count": null,
      "metadata": {
        "colab": {
          "base_uri": "https://localhost:8080/",
          "height": 37
        },
        "id": "odgvz2f5YUdk",
        "outputId": "6ae4bd10-0f2e-4a87-b86c-cb3e2cab7c28"
      },
      "outputs": [
        {
          "output_type": "execute_result",
          "data": {
            "text/plain": [
              "'¡Ganaste!\\n'"
            ],
            "application/vnd.google.colaboratory.intrinsic+json": {
              "type": "string"
            }
          },
          "metadata": {},
          "execution_count": 25
        }
      ],
      "source": [
        "answer_server = f\"https://ciberseguridad.diplomatura.unc.edu.ar/cripto/padding-oracle/{email}/answer\"\n",
        "padding_ans = requests.post(answer_server,files = {'message': msgposta})\n",
        "padding_ans.text"
      ]
    },
    {
      "cell_type": "code",
      "source": [],
      "metadata": {
        "id": "7m0oe50P81hL"
      },
      "execution_count": null,
      "outputs": []
    }
  ],
  "metadata": {
    "colab": {
      "provenance": [],
      "authorship_tag": "ABX9TyPv+2jgaB25PBGjQ+CWXdEb",
      "include_colab_link": true
    },
    "kernelspec": {
      "display_name": "Python 3",
      "name": "python3"
    },
    "language_info": {
      "name": "python"
    }
  },
  "nbformat": 4,
  "nbformat_minor": 0
}