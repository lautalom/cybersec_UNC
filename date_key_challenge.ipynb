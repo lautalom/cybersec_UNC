{
  "nbformat": 4,
  "nbformat_minor": 0,
  "metadata": {
    "colab": {
      "provenance": [],
      "authorship_tag": "ABX9TyNdDirIhVQ/XONChFP+Wk8m",
      "include_colab_link": true
    },
    "kernelspec": {
      "name": "python3",
      "display_name": "Python 3"
    },
    "language_info": {
      "name": "python"
    }
  },
  "cells": [
    {
      "cell_type": "markdown",
      "metadata": {
        "id": "view-in-github",
        "colab_type": "text"
      },
      "source": [
        "<a href=\"https://colab.research.google.com/github/lautalom/diploUNC/blob/main/date_key_challenge.ipynb\" target=\"_parent\"><img src=\"https://colab.research.google.com/assets/colab-badge.svg\" alt=\"Open In Colab\"/></a>"
      ]
    },
    {
      "cell_type": "markdown",
      "source": [
        "\n",
        "\n",
        "# [Desafío](https://ciberseguridad.diplomatura.unc.edu.ar/cripto/doc/timerand.html)\n",
        "El desafío consiste en descifrar un mensaje cifrado con una clave generada a partir de la fecha y hora de creación del mensaje.\n",
        "\n",
        "Para obtener el mensaje a descifrar se debe hacer un requerimiento GET a una URL de la forma:\n",
        "\n",
        "https://ciberseguridad.diplomatura.unc.edu.ar/cripto/timerand/<email\\>/challenge\n",
        "donde <email> debe ser reemplazado por una dirección de correo electrónico registrada.\n",
        "\n",
        "El resultado será similar al siguiente:\n",
        "\n",
        "From: miguel.montes@unc.edu.ar\n",
        "Date: Sat Jan 29 19:15:45 UTC 2022\n",
        "To: user@example.com\n",
        "\n",
        "cJLPK7rt3EegpxZre4e7Sw2kncbwo2FuPjyiVn/cOLZ5wvZ3znoudW\n",
        "YVGrVuWxP95Uc9aib0dUNMSBy+bJrdzFBqwb9M/6c9Z/7sy8RRcBOM\n",
        "QH+5qAstqLqOAHeCwEFEiYUJt6q3++3RvHjRGkgA2Xu2LBdjr/B3sX\n",
        "DmaFNF2QohmgzmrkyTxC3lH8rSN314I0qgDQWcDr0vSerrKWBFIMXh\n",
        "0aezn9f+OHNjYOHBtCG0Pw/nnQLrjmFWLBo1AQ0we4oObutsWMak1O\n",
        "+74GvBpOYLeNvIh8hL+uEEuFixxF8aTMUTsnZ13WxeZI2LH5ySf6QV\n",
        "SFUDRWIKWryyv46KQZEFLidhoPR02blDMlty21TQc9spcl4Y2V5rKj\n",
        "jsRosPzXDJr2qSSVoL7PVPoMB7WiS1rwzhgcPxFVk2aEF9YsMD1lfF\n",
        "6azSNhEIfu028QYnuONG/Xof9Ni2+2coODD8CXSh7djCtw5Jex5HNu\n",
        "RMY/9qWfk7u4RdR11kZhhUGfVH4r4Z5h5pAJHj8khZxlZ9AyFapO6F\n",
        "Q6erUDIc4WEq6ns=\n",
        "\n",
        "En el encabezado, además del emisor y el destinatario, aparece la hora de creación del mensaje. El cuerpo contiene una secuencia de bytes codificada en base64.\n",
        "\n",
        "- Los primeros 128 bytes de esa cadena contienen una clave simétrica que ha sido cifrada con RSA de 1024 bits.\n",
        "- El resto de la cadena, es el mensaje cifrado con AES-128 en modo CBC, utilizando relleno PKCS7, y con el IV colocado como primer bloque (16 bytes)\n",
        "- La clave simétrica ha sido generada mediante la aplicación del algoritmo MD5 a la hora de creación del mensaje, expresada como el tiempo Unix expresado en microsegundos (es decir, la cantidad de microsegundos segundos transcurridos desde las cero horas del 1 de enero de 1970 UTC). **Como MD5 procesa secuencias de bytes, el número de microsegundos ha sido convertido en 8 bytes, utilizando la convención big endian.**\n",
        "\n",
        "El mensaje está compuesto únicamente por caracteres ASCII.\n",
        "\n",
        "Es necesario observar que la fecha y hora que figuran en el mensaje se encuentran expresadas con una precisión de segundos, no de microsegundos, por lo que existen 1.000.000 de claves posibles asociadas con ella."
      ],
      "metadata": {
        "id": "BZXI93ub1wRe"
      }
    },
    {
      "cell_type": "code",
      "execution_count": null,
      "metadata": {
        "id": "fux9HGC0vRDo"
      },
      "outputs": [],
      "source": [
        "import requests\n",
        "import base64\n",
        "import struct\n",
        "from datetime import datetime, timezone, timedelta\n",
        "from hashlib import md5\n",
        "from cryptography.hazmat.primitives.ciphers import Cipher, algorithms, modes\n",
        "from cryptography.hazmat.primitives import hashes, padding as symmetric_padding\n",
        "from cryptography.hazmat.primitives.asymmetric import padding as asymmetric_padding\n",
        "from cryptography.hazmat.backends import default_backend"
      ]
    },
    {
      "cell_type": "code",
      "source": [
        "email = \"lautarolombardi19@gmail.com\"\n",
        "server = f\"https://ciberseguridad.diplomatura.unc.edu.ar/cripto/timerand/{email}/challenge\"\n",
        "\n",
        "message = requests.get(url=server)\n",
        "lines = message.text.split('\\n')\n",
        "# print(lines)\n",
        "to_index = lines.index(f'To: {email}')\n",
        "# Extract the body of the message\n",
        "body = '\\n'.join(lines[to_index + 2:])\n",
        "date_line = next(line for line in lines if line.startswith('Date:'))\n",
        "date_string = date_line.split(':', 1)[1].strip()\n",
        "date_string"
      ],
      "metadata": {
        "colab": {
          "base_uri": "https://localhost:8080/",
          "height": 35
        },
        "id": "A0k7lKjcvZbD",
        "outputId": "45fc25e6-1066-43e0-a4b3-93b8e387fca3"
      },
      "execution_count": null,
      "outputs": [
        {
          "output_type": "execute_result",
          "data": {
            "text/plain": [
              "'Thu May 12 05:51:18 UTC 2022'"
            ],
            "application/vnd.google.colaboratory.intrinsic+json": {
              "type": "string"
            }
          },
          "metadata": {},
          "execution_count": 14
        }
      ]
    },
    {
      "cell_type": "code",
      "source": [
        "decoded_body = base64.b64decode(body)\n",
        "rsa_1024_key_hex = decoded_body[:128]\n",
        "hex_iv = decoded_body[128:128+16].hex()\n",
        "iv = bytes.fromhex(hex_iv)\n",
        "msg = decoded_body[128+16:]\n",
        "input_format = \"%a %b %d %H:%M:%S %Z %Y\"\n",
        "date_object = datetime.strptime(date_string, input_format)\n",
        "\n",
        "# Calculate Unix timestamp\n",
        "unix_timestamp = int(date_object.replace(tzinfo=timezone.utc).timestamp())\n",
        "microseconds = unix_timestamp * 1000000\n",
        "\n",
        "print(\"Unix Time in Microseconds:\", microseconds)"
      ],
      "metadata": {
        "colab": {
          "base_uri": "https://localhost:8080/"
        },
        "id": "XkZthOqmwK6E",
        "outputId": "451a29a1-459f-4020-a23a-e1af26026e3a"
      },
      "execution_count": null,
      "outputs": [
        {
          "output_type": "stream",
          "name": "stdout",
          "text": [
            "Unix Time in Microseconds: 1652334678000000\n"
          ]
        }
      ]
    },
    {
      "cell_type": "code",
      "source": [
        "microseconds_i = microseconds\n",
        "for i in range(2**20):\n",
        "  microbytes = microseconds_i.to_bytes(8, byteorder='big')\n",
        "  possible_key = md5(microbytes).digest()\n",
        "  cipher = Cipher(algorithms.AES(possible_key), modes.CBC(iv), backend=default_backend())\n",
        "  decryptor = cipher.decryptor()\n",
        "  try:\n",
        "    decrypted_data = decryptor.update(msg) + decryptor.finalize()\n",
        "    unpadder = symmetric_padding.PKCS7(128).unpadder()\n",
        "    unpadded_data = unpadder.update(decrypted_data)\n",
        "    unpadded_data += unpadder.finalize()\n",
        "    decoded_text = unpadded_data.decode('ascii')\n",
        "    print(\"Decrypted Data:\", decoded_text)\n",
        "    break\n",
        "  except UnicodeDecodeError:\n",
        "    pass\n",
        "  except ValueError:\n",
        "    pass\n",
        "  finally:\n",
        "    microseconds_i = microseconds + i\n"
      ],
      "metadata": {
        "colab": {
          "base_uri": "https://localhost:8080/"
        },
        "id": "SD3RhQIsmmiR",
        "outputId": "bef5cd90-3086-46e2-9c15-464b70841a64"
      },
      "execution_count": null,
      "outputs": [
        {
          "output_type": "stream",
          "name": "stdout",
          "text": [
            "Decrypted Data: Making files is easy under the UNIX operating system.  Therefore, users\n",
            "tend to create numerous files using large amounts of file space.  It has\n",
            "been said that the only standard thing about all UNIX systems is the\n",
            "message-of-the-day telling users to clean up their files.\n",
            "\t\t-- System V.2 administrator's guide\n"
          ]
        }
      ]
    },
    {
      "cell_type": "code",
      "source": [
        "answer_url = f\"https://ciberseguridad.diplomatura.unc.edu.ar/cripto/timerand/{email}/answer\"\n",
        "response = requests.post(url=answer_url, files={\"message\": decoded_text})\n",
        "print(response.text)\n"
      ],
      "metadata": {
        "id": "MtA9k5_6wKsv",
        "colab": {
          "base_uri": "https://localhost:8080/"
        },
        "outputId": "0682f4ac-7362-4d09-e521-660702745a24"
      },
      "execution_count": null,
      "outputs": [
        {
          "output_type": "stream",
          "name": "stdout",
          "text": [
            "¡Ganaste!\n",
            "\n"
          ]
        }
      ]
    },
    {
      "cell_type": "code",
      "source": [],
      "metadata": {
        "id": "dgythVHZ0O3y"
      },
      "execution_count": null,
      "outputs": []
    }
  ]
}