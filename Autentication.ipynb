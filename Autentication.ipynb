{
  "nbformat": 4,
  "nbformat_minor": 0,
  "metadata": {
    "colab": {
      "provenance": [],
      "authorship_tag": "ABX9TyM3ZJ3aj5+cYQ0EGf7xyku9",
      "include_colab_link": true
    },
    "kernelspec": {
      "name": "python3",
      "display_name": "Python 3"
    },
    "language_info": {
      "name": "python"
    }
  },
  "cells": [
    {
      "cell_type": "markdown",
      "metadata": {
        "id": "view-in-github",
        "colab_type": "text"
      },
      "source": [
        "<a href=\"https://colab.research.google.com/github/lautalom/diploUNC/blob/main/Autentication.ipynb\" target=\"_parent\"><img src=\"https://colab.research.google.com/assets/colab-badge.svg\" alt=\"Open In Colab\"/></a>"
      ]
    },
    {
      "cell_type": "markdown",
      "source": [
        "# Extension de longitud\n",
        "El desafío consiste en crear una falsificación de un mensaje autenticado con una MAC creada a partir de una función de hash y un secreto 1.\n",
        "\n",
        "Para obtener el mensaje a falsificar se debe hacer un requerimiento GET a una URL de la forma:\n",
        "\n",
        "https://ciberseguridad.diplomatura.unc.edu.ar/cripto/secret-prefix-mac/<email\\>/challenge\n",
        "donde <email\\> debe ser reemplazado por una dirección de correo electrónico registrada.\n",
        "\n",
        "El mensaje a falsificar es una query string de la forma:\n",
        "\n",
        "user=user@example.com&action=show&mac=55d7c19d9e4d5427d5cadd309b58a5fdfb0f78b9b40671d65c73df5ed4476784\n",
        "\n",
        "Vemos que en este ejemplo hay tres pares clave-valor:\n",
        "\n",
        "- user=user@example.com\n",
        "- action=show\n",
        "- mac=55d7c19d9e4d5427d5cadd309b58a5fdfb0f78b9b40671d65c73df5ed4476784\n",
        "\n",
        "**La falsificación debe ser una query string válida que incluya el par `admin=true`.**\n",
        "\n",
        "Para calcular el MAC, se construye un mensaje formado por la concatenación del resto de los pares clave-valor, ordenados alfabéticamente por clave, y eliminando los símbolos = y &. En el caso anterior, el **mensaje** sería:\n",
        "\n",
        "<center>actionshowuseruser@example.com</center>\n",
        "\n",
        "Sobre este mensaje se calcula un MAC de la siguiente forma:\n",
        "\n",
        "$$MAC = \\operatorname{SHA-256}(secreto || mensaje)$$\n",
        "\n",
        "donde:\n",
        "- mensaje es el mensaje conformado como se describe más arriba.\n",
        "- secreto es una clave secreta de **16 bytes**.\n",
        "- || denota concatenación"
      ],
      "metadata": {
        "id": "pvrTUS5QCtIP"
      }
    },
    {
      "cell_type": "markdown",
      "source": [
        "# Analisis\n",
        "El esquema utilizado en este presenta un par de problemas.\n",
        "\n",
        "Por un lado, distintas query strings pueden producir el mismo mensaje. Por ejemplo, el mensaje anterior también puede ser producido por la siguientes query strings:\n",
        "\n",
        "- useru=ser@example.com&ac=tionshow\n",
        "- a=ctionshowuseruser@example.com\n",
        "\n",
        "y numerosas otras combinaciones.\n",
        "\n",
        "En segundo lugar, SHA-256, como todos los algoritmos que usan la construcción de Merkle-Damgård, es susceptible a ataques de extensión de longitud. Como el resultado final de la función de hash puede ser tambien visto como un valor intermedio de un mensaje más largo, es posible producir una extensión del mensaje sin necesidad de conocer el secreto.\n",
        "\n",
        "El nuevo mensaje tendrá la forma:\n",
        "\n",
        "mensaje_extendido = mensaje || relleno || extension\n",
        "donde:\n",
        "\n",
        "- mensaje es el mensaje original.\n",
        "- relleno es el relleno (padding) que debió aplicar la función de hash sobre el mensaje original, y en el cual está codificada la longitud del mensaje al cual se aplicó dicha función (lo cual incluye la longitud del secreto). Como se trata de SHA-256 la longitud está expresada como un número de 64 bits utilizando la convención big endian, ocupando los últimos 8 bytes del relleno.\n",
        "- extensión es el mensaje agregado.\n",
        "\n",
        "Para calcular el nuevo MAC, se debe utilizar una versión modificada de SHA-256, que permita declarar un IV y la cantidad de bits procesados previamente.\n",
        "\n",
        "<center>Nuevo_MAC = SHA-256'(extension, MAC, longitud) </center>\n",
        "donde\n",
        "\n",
        "- extension es el mensaje agregado.\n",
        "- MAC es el MAC original, que se usa como IV.\n",
        "- longitud es la longitud del mensaje original (secreto || mensaje || relleno). Debe ser un múltiplo del tamaño de bloque de la función de hash (512 bits = 64 bytes en el caso de SHA-256).\n",
        "La nueva query string debe ser tal que produzca el mensaje extendido.\n",
        "\n",
        "Obsérvese que un par de la forma:\n",
        "\n",
        "<center>a=ctionshowuseruser@example.com</center>\n",
        "\n",
        "estará al principio del mensaje (porque la clave a será la primera en orden alfabético) y absorberá cualquier cosa que se le agregue hasta el próximo &.\n",
        "\n",
        "Por lo tanto, una posible solución tendrá la forma\n",
        "\n",
        "a=<parte restante del mensaje anterior\\>&<pares que generan la extension\\>&mac=<Nuevo_MAC\\>\n",
        "Vale la pena destacar que el relleno contendrá valores que son inválidos en una URL, por lo que habrá que utilizar un mecanismo de escape. Por ejemplo, los bytes con valor 0 deberán ser representados, en la consulta, mediante ‘%00’. No es conveniente hacer esta transformación en forma manual, sino utilizar los mecanismos de escape para URLs que proveen los distintos lenguajes de programación.\n",
        "\n",
        "https://dl.packetstormsecurity.net/0909-advisories/flickr_api_signature_forgery.pdf"
      ],
      "metadata": {
        "id": "ud_dC5vmENvl"
      }
    },
    {
      "cell_type": "code",
      "source": [
        "import requests\n",
        "import json\n",
        "from base64 import b64encode, b64decode\n",
        "from hashlib import sha256\n",
        "from typing import Optional"
      ],
      "metadata": {
        "id": "Y3t9sJsYCuEZ"
      },
      "execution_count": null,
      "outputs": []
    },
    {
      "cell_type": "code",
      "source": [
        "def find_nth_symbol_position(a, symbol, n):\n",
        "  #finds index of the nth repetition of 'symbol' in string a\n",
        "    count = 0\n",
        "    index = -1\n",
        "    while count < n:\n",
        "        index = a.find(symbol, index + 1)\n",
        "        if index == -1:\n",
        "            break\n",
        "        count += 1\n",
        "    return index\n",
        "\n",
        "def remove_symbol(a, symbol):\n",
        "  while symbol in a:\n",
        "        a = a.replace(symbol, '', 1)\n",
        "  return a\n",
        "\n",
        "email = \"lautarolombardi19@gmail.com\"\n",
        "server = f'https://ciberseguridad.diplomatura.unc.edu.ar/cripto/secret-prefix-mac/{email}/challenge'\n",
        "\n",
        "resp = requests.get(server)"
      ],
      "metadata": {
        "id": "PTM0V-rGENMe"
      },
      "execution_count": null,
      "outputs": []
    },
    {
      "cell_type": "code",
      "source": [
        "t = resp.text\n",
        "print(t)\n",
        "mac = t[t.find('mac')+4:]\n",
        "mac_bytes = bytes.fromhex(mac)\n",
        "print(mac_bytes)\n",
        "# build the string of the original message\n",
        "message = t[t.find('&')+1:find_nth_symbol_position(t, '&', 2)]\n",
        "message += t[:t.find('&')]\n",
        "msg = remove_symbol(message, '=')\n",
        "msg"
      ],
      "metadata": {
        "colab": {
          "base_uri": "https://localhost:8080/",
          "height": 70
        },
        "id": "U_jAO8QUCuBc",
        "outputId": "e163aab1-a2b9-4422-abbc-72e14a9c9cde"
      },
      "execution_count": null,
      "outputs": [
        {
          "output_type": "stream",
          "name": "stdout",
          "text": [
            "user=lautarolombardi19@gmail.com&action=show&mac=059fa4afeb9b79084358dd108a734769c3740ccbd0b3eac7735269cb31d8036f\n",
            "b'\\x05\\x9f\\xa4\\xaf\\xeb\\x9by\\x08CX\\xdd\\x10\\x8asGi\\xc3t\\x0c\\xcb\\xd0\\xb3\\xea\\xc7sRi\\xcb1\\xd8\\x03o'\n"
          ]
        },
        {
          "output_type": "execute_result",
          "data": {
            "text/plain": [
              "'actionshowuserlautarolombardi19@gmail.com'"
            ],
            "application/vnd.google.colaboratory.intrinsic+json": {
              "type": "string"
            }
          },
          "metadata": {},
          "execution_count": 45
        }
      ]
    },
    {
      "cell_type": "markdown",
      "source": [
        "https://stackoverflow.com/questions/24183109/what-is-sha-256-padding\n",
        "\n",
        "#Padding\n",
        "append the bit '1' to the message\n",
        "\n",
        "append k bits '0', where k is the minimum number >= 0 such that the resulting message length (modulo 512 in bits) is 448.\n",
        "\n",
        "The message needs to be a multiple of 512 bits, this means the message length plus the number of padded bits in addition to 64 bits must equal a multiple of 512 bits. Padded bits start with an 1 and the rest are zeros.\n",
        "\n",
        "\n",
        "https://blockchain-academy.hs-mittweida.de/sha-256-generator/"
      ],
      "metadata": {
        "id": "--vUUp7brQ7K"
      }
    },
    {
      "cell_type": "code",
      "execution_count": null,
      "metadata": {
        "id": "x-A9ncigaBfv",
        "colab": {
          "base_uri": "https://localhost:8080/"
        },
        "outputId": "2e6d78ef-ecda-4989-cea5-ae0dd75c38f6"
      },
      "outputs": [
        {
          "output_type": "stream",
          "name": "stdout",
          "text": [
            "Byte length of msg including 16 byte secret: 57\n",
            "Number of padded bits: 504\n",
            "Padding length in bits = 568  plus total len = 1024\n"
          ]
        }
      ],
      "source": [
        "secret_length = 16 # longitud (bytes) del secreto por consigna\n",
        "# length in bits of secret||message\n",
        "total_len = (len(msg) + secret_length) * 8\n",
        "print(f'Byte length of msg including 16 byte secret: {total_len//8}')\n",
        "# 64-bit (128 in sha512) integer that records the length of the message in big endian\n",
        "len_in_padding = total_len.to_bytes(8, byteorder='big')\n",
        "# amount of zeros to pad\n",
        "k = (448 - (total_len + 1)) % 512\n",
        "missingbits = k+1\n",
        "print('Number of padded bits:', missingbits)\n",
        "# Create the byte array with the initial value of 0x10\n",
        "padding_bytes = bytearray([0x80])\n",
        "# Calculate the number of additional zero bytes needed\n",
        "zero_byte_count = (missingbits // 8 - 1)\n",
        "# Add the zero bytes to the byte array\n",
        "padding_bytes.extend([0x00] * zero_byte_count)\n",
        "# Concatenate len_in_padding to padding_bytes\n",
        "padding_bytes.extend(len_in_padding)\n",
        "print('Padding length in bits =', len(padding_bytes) * 8, ' plus total len =', total_len + len(padding_bytes) * 8)\n",
        "# padding_bytes\n"
      ]
    },
    {
      "cell_type": "code",
      "source": [
        "def wrap_sha256(mac, extension, length):\n",
        "    # Initialize the SHA-256 hash object with the MAC as the initial state\n",
        "    sha256_hash = sha256(string=mac)\n",
        "\n",
        "    # Update the hash with the portion of the extension starting from 'length'\n",
        "    sha256_hash.update(extension)\n",
        "    print(f'hashing from {extension}')\n",
        "\n",
        "    return sha256_hash\n",
        "\n",
        "payload = b'admintrue' + b'userlautarolombardi19@gmail.com'\n",
        "mac_mio = wrap_sha256(mac_bytes, payload, 1024//8)\n",
        "mac_hex = '977530d9dd4009404cc5731bc6d39ab8e81ddc70fe36680eade7a458753d7f7f' # sale del codigo del profe\n",
        "print(payload, mac_mio.hexdigest())"
      ],
      "metadata": {
        "id": "Gap6601U5ytF",
        "colab": {
          "base_uri": "https://localhost:8080/"
        },
        "outputId": "d6e8abeb-0a8d-4faf-e79a-792ba9b4ffe3"
      },
      "execution_count": null,
      "outputs": [
        {
          "output_type": "stream",
          "name": "stdout",
          "text": [
            "hashing from b'admintrueuserlautarolombardi19@gmail.com'\n",
            "b'admintrueuserlautarolombardi19@gmail.com' 38fb33ac8f3cb7af7b3ef1d76530cbe9627ea05c80c910e1bb3f2b097307c6c0\n"
          ]
        }
      ]
    },
    {
      "cell_type": "markdown",
      "source": [
        "since server orders key,value pairs alphabetically, to replicate the prefix of 'action=show...' but also allow for the key,value pair *admin=true* we use the vulnerability that does not check keys and go 'a=' + rest of prefix so it goes first, then use padding bytes, then add the admin suffix and lastly add the 'user=username' since it wouldnt actually be a part of key,values as it was originally intended otherwise."
      ],
      "metadata": {
        "id": "7r7sjaVToE8I"
      }
    },
    {
      "cell_type": "code",
      "source": [
        "from urllib.parse import quote\n",
        "payload_str = 'a=' + msg[1:] + quote(padding_bytes) + '&admin=true&' + t[:t.find('&')]+ '&mac=' + mac_hex\n",
        "payload_str"
      ],
      "metadata": {
        "id": "YC2U9Y0u5yjc",
        "colab": {
          "base_uri": "https://localhost:8080/",
          "height": 70
        },
        "outputId": "2123304d-4e96-4dcb-8f62-35beb89456ca"
      },
      "execution_count": null,
      "outputs": [
        {
          "output_type": "execute_result",
          "data": {
            "text/plain": [
              "'a=ctionshowuserlautarolombardi19@gmail.com%80%00%00%00%00%00%00%00%00%00%00%00%00%00%00%00%00%00%00%00%00%00%00%00%00%00%00%00%00%00%00%00%00%00%00%00%00%00%00%00%00%00%00%00%00%00%00%00%00%00%00%00%00%00%00%00%00%00%00%00%00%00%00%00%00%00%00%00%00%01%C8&admin=true&user=lautarolombardi19@gmail.com&mac=977530d9dd4009404cc5731bc6d39ab8e81ddc70fe36680eade7a458753d7f7f'"
            ],
            "application/vnd.google.colaboratory.intrinsic+json": {
              "type": "string"
            }
          },
          "metadata": {},
          "execution_count": 48
        }
      ]
    },
    {
      "cell_type": "code",
      "source": [
        "server = f'https://ciberseguridad.diplomatura.unc.edu.ar/cripto/secret-prefix-mac/{email}/answer?{payload_str}'\n",
        "challenge = requests.get(server)\n",
        "challenge.text"
      ],
      "metadata": {
        "id": "GguO_aFf5yIt",
        "colab": {
          "base_uri": "https://localhost:8080/",
          "height": 35
        },
        "outputId": "a1b978e4-812d-47bb-d568-7288ff81fe0b"
      },
      "execution_count": null,
      "outputs": [
        {
          "output_type": "execute_result",
          "data": {
            "text/plain": [
              "'¡Ganaste!\\n'"
            ],
            "application/vnd.google.colaboratory.intrinsic+json": {
              "type": "string"
            }
          },
          "metadata": {},
          "execution_count": 49
        }
      ]
    },
    {
      "cell_type": "markdown",
      "source": [
        "# CBC MAC\n",
        "\n",
        "El desafío consiste en crear una falsificación de una query string autenticada con CBC-MAC.\n",
        "\n",
        "Para obtener el mensaje a falsificar se debe hacer un requerimiento GET a una URL de la forma:\n",
        "\n",
        "https://ciberseguridad.diplomatura.unc.edu.ar/cripto/cbc-mac/<email\\>/challenge\n",
        "donde <email\\> debe ser reemplazado por una dirección de correo electrónico registrada.\n",
        "\n",
        "El mensaje a falsificar es una query string de la forma:\n",
        "\n",
        "\n",
        "---\n",
        "from=user@example.com&user@example.com=1000&comment=Invoice&mac=701b3768b67a68be68cee9736628cae8\n",
        "\n",
        "---\n",
        "\n",
        "\n",
        "Vemos que en este ejemplo hay cuatro pares clave-valor:\n",
        "\n",
        "- from=user@example.com\n",
        "- user@example.com=1000\n",
        "- comment=Invoice\n",
        "- mac=701b3768b67a68be68cee9736628cae8\n",
        "\n",
        "La query string tiene por objeto representar una o más transferencias de dinero desde la dirección especificada como from a las direcciones especificadas. En este caso particular, se trata de una transferencia de $1000 desde user@example.com a user@example.com.\n",
        "\n",
        "*comment* representa un comentario arbitrario, que no afecta la transacción.\n",
        "\n",
        "Es posible agregar múltiples transferencias y comentarios, como en el siguiente ejemplo (se omite el MAC):\n",
        "\n",
        "from=user@example.com&user@example.com=1000&comment=Invoice&user@example.edu=2500\n",
        "El MAC se calcula utilizando CBC-MAC sobre toda la consulta, tal como está escrita y sin considerar el MAC:\n",
        "\n",
        "mac = CBC-MAC(\"from=user@example.com&user@example.com=1000&comment=Invoice\")\n",
        "\n",
        "La falsificación debe ser una query string válida que implique la transferencia a su dirección de correo de más de $10.000."
      ],
      "metadata": {
        "id": "7aIOwDKECo5G"
      }
    },
    {
      "cell_type": "markdown",
      "source": [
        "# Analisis\n",
        "\n",
        "Análisis\n",
        "CBC-MAC no es un buen algoritmo de MAC si admitimos mensajes de longitud variable.\n",
        "\n",
        "Sean dos mensajes $M, M'$\n",
        "\n",
        "- $M=M_1\\parallel M_2\\parallel \\cdots\\parallel M_n$\n",
        "- $M'=M'_1\\parallel M_2'\\parallel \\cdots\\parallel M_n'$\n",
        "\n",
        "y sus respectivos tags $T, T'$\n",
        "\n",
        "- $T = \\operatorname{CBC-MAC}(M)$\n",
        "- $T' = \\operatorname{CBC-MAC}(M')$\n",
        "\n",
        "Podemos generar un mensaje $M''=M\\parallel (M'_1 \\oplus T)\\parallel M_2'\\parallel \\cdots\\parallel  M_n'$\n",
        "\n",
        "El Xor con $T$ anula el aporte de $M$ al tag, con lo que $\\operatorname{CBC-MAC}(M'')=T'$\n",
        "\n",
        "En este caso tenemos un solo mensaje, pero lo queremos concatener consigo mismo de manera de incrementar el monto transferido.\n",
        "\n",
        "Es necesario tener en cuenta que debemos generar una query string válida, por lo que es probable que sea necesario escapar los caracteres que no son admisibles en una URL. Por ejemplo, los bytes con valor 0 deberán ser representados, en la consulta, mediante ‘%00’. No es conveniente hacer esta transformación en forma manual, sino utilizar los mecanismos de escape para URLs que proveen los distintos lenguajes de programación."
      ],
      "metadata": {
        "id": "OA6gbGZ3fDmK"
      }
    },
    {
      "cell_type": "markdown",
      "source": [
        "# Respuesta\n",
        "Respuesta\n",
        "La respuesta debe ser enviada con un requerimiento GET de la forma\n",
        "\n",
        "https://ciberseguridad.diplomatura.unc.edu.ar/cripto/cbc-mac/<email\\>/answer?<query\\>\n",
        "donde <email\\> es una dirección de correo registrada, y <query\\> es la query string falsificada, con las siguientes propiedades:\n",
        "\n",
        "- Debe ser una query string válida, con pares atributo-valor de la forma atributo=valor separados por el carácter &.\n",
        "- Debe contener un campo `from=user@example.com.\n",
        "- Debe contener uno o más campos con su dirección de correo y un monto, de manera que el monto total sea mayor que $10.000.\n",
        "- Puede contener uno o más campos comment.\n",
        "- Debe contener un MAC correcto, que corresponda con los datos enviados."
      ],
      "metadata": {
        "id": "jSvKfd73hFbw"
      }
    },
    {
      "cell_type": "code",
      "source": [
        "import requests\n",
        "from base64 import b64encode, b64decode\n",
        "from urllib.parse import quote\n",
        "import hashlib"
      ],
      "metadata": {
        "id": "zW2PNSaIfC5q"
      },
      "execution_count": null,
      "outputs": []
    },
    {
      "cell_type": "code",
      "source": [
        "email = \"lautarolombardi19@gmail.com\"\n",
        "server = f'https://ciberseguridad.diplomatura.unc.edu.ar/cripto/cbc-mac/{email}/challenge'\n",
        "\n",
        "first = requests.get(server)\n",
        "first.text"
      ],
      "metadata": {
        "colab": {
          "base_uri": "https://localhost:8080/",
          "height": 35
        },
        "id": "cXKfpCLfhQim",
        "outputId": "83178f13-0387-4038-9e89-0d0cf280d959"
      },
      "execution_count": null,
      "outputs": [
        {
          "output_type": "execute_result",
          "data": {
            "text/plain": [
              "'from=User <user@example.com>&lautarolombardi19@gmail.com=1000&comment=Invoice&mac=a4dda59003ec18164c63663db13ce385'"
            ],
            "application/vnd.google.colaboratory.intrinsic+json": {
              "type": "string"
            }
          },
          "metadata": {},
          "execution_count": 3
        }
      ]
    },
    {
      "cell_type": "code",
      "source": [
        "qs = first.text\n",
        "mac_idx = qs.find('mac=')\n",
        "mac_str = qs[mac_idx+4:]\n",
        "mac_bytes = bytes.fromhex(mac_str)\n",
        "print(mac_bytes, len(mac_bytes))"
      ],
      "metadata": {
        "id": "oHRjaIQbhfSB",
        "colab": {
          "base_uri": "https://localhost:8080/"
        },
        "outputId": "0d92a107-8753-4e32-a6bb-1293c0ec39fb"
      },
      "execution_count": null,
      "outputs": [
        {
          "output_type": "stream",
          "name": "stdout",
          "text": [
            "b'\\xa4\\xdd\\xa5\\x90\\x03\\xec\\x18\\x16Lcf=\\xb1<\\xe3\\x85' 16\n"
          ]
        }
      ]
    },
    {
      "cell_type": "code",
      "source": [
        "  from urllib.parse import quote, quote_from_bytes # https://docs.python.org/3/library/urllib.parse.html#urllib.parse.quote\n",
        "xornewqs = bytes([ord(a) ^ b for a, b in zip(qs, mac_bytes)])\n",
        "# no funciona esto tampoco\n",
        "# xornewqs = ''.join([chr(ord(a) ^ b) for a, b in zip(qs[5:], mac_bytes)])\n",
        "print(xornewqs, len(xornewqs))\n",
        "# prepend to previous string\n",
        "payload = bytes(qs[:mac_idx - 1],'ascii')\n",
        "print(payload)\n",
        "# Calculate the number of bytes needed for padding\n",
        "block_size = 16\n",
        "padding_length = block_size - (len(payload) % block_size)\n",
        "# Create the padding bytes\n",
        "padding = bytes([padding_length]) * padding_length\n",
        "# Combine the payload and padding\n",
        "padded_payload = payload + padding + xornewqs + bytes(qs[len(xornewqs):mac_idx-1], 'ascii') + bytes(qs[mac_idx-1:], 'ascii')\n",
        "padded_payload"
      ],
      "metadata": {
        "id": "t1ID1JSDhhSq",
        "colab": {
          "base_uri": "https://localhost:8080/"
        },
        "outputId": "9fa270ca-08c5-42b5-ac78-1009b9a8ce2b"
      },
      "execution_count": null,
      "outputs": [
        {
          "output_type": "stream",
          "name": "stdout",
          "text": [
            "b'\\xc2\\xaf\\xca\\xfd>\\xb9ks>CZH\\xc2Y\\x91\\xc5' 16\n",
            "b'from=User <user@example.com>&lautarolombardi19@gmail.com=1000&comment=Invoice'\n"
          ]
        },
        {
          "output_type": "execute_result",
          "data": {
            "text/plain": [
              "b'from=User <user@example.com>&lautarolombardi19@gmail.com=1000&comment=Invoice\\x03\\x03\\x03\\xc2\\xaf\\xca\\xfd>\\xb9ks>CZH\\xc2Y\\x91\\xc5example.com>&lautarolombardi19@gmail.com=1000&comment=Invoice&mac=a4dda59003ec18164c63663db13ce385'"
            ]
          },
          "metadata": {},
          "execution_count": 30
        }
      ]
    },
    {
      "cell_type": "markdown",
      "source": [
        "Primer test: tiene que responder que quiere mas plata"
      ],
      "metadata": {
        "id": "CLG5CYr3ggdB"
      }
    },
    {
      "cell_type": "code",
      "source": [
        "answer = f'https://ciberseguridad.diplomatura.unc.edu.ar/cripto/cbc-mac/{email}/answer?'\n",
        "print(quote(padded_payload, safe='&=@\\ <>'))\n",
        "response = requests.get(answer+quote(padded_payload, safe='&=@\\ <>'))\n",
        "response.text"
      ],
      "metadata": {
        "colab": {
          "base_uri": "https://localhost:8080/",
          "height": 73
        },
        "id": "f8XN0kOkIB_6",
        "outputId": "03b56217-be62-4dec-e64d-23f098c87be4"
      },
      "execution_count": null,
      "outputs": [
        {
          "output_type": "stream",
          "name": "stdout",
          "text": [
            "from=User <user@example.com>&lautarolombardi19@gmail.com=1000&comment=Invoice%03%03%03%C2%AF%CA%FD>%B9ks>CZH%C2Y%91%C5example.com>&lautarolombardi19@gmail.com=1000&comment=Invoice&mac=a4dda59003ec18164c63663db13ce385\n"
          ]
        },
        {
          "output_type": "execute_result",
          "data": {
            "text/plain": [
              "'¡Quiero más plata!\\n'"
            ],
            "application/vnd.google.colaboratory.intrinsic+json": {
              "type": "string"
            }
          },
          "metadata": {},
          "execution_count": 31
        }
      ]
    },
    {
      "cell_type": "markdown",
      "source": [
        "extender la logica de antes pero con mas plata, hasta cubrir la consigna de 10k al menos"
      ],
      "metadata": {
        "id": "TmAgJL_Fi9ma"
      }
    },
    {
      "cell_type": "code",
      "source": [
        "payload = bytes(qs[:mac_idx - 1],'ascii')\n",
        "padding_length = block_size - (len(payload) % block_size)\n",
        "padding = bytes([padding_length]) * padding_length\n",
        "padded_payload = payload + padding\n",
        "for i in range(10):\n",
        "  # Combine the payload and padding\n",
        "  padded_payload += xornewqs + bytes(qs[len(xornewqs):mac_idx-1], 'ascii')\n",
        "  padding_length = block_size - (len(padded_payload) % block_size)\n",
        "  padding = bytes([padding_length]) * padding_length\n",
        "  if i==9:\n",
        "    # no hay padding al ultimo\n",
        "    continue\n",
        "  padded_payload += padding\n",
        "padded_payload += bytes(qs[mac_idx-1:], 'ascii')"
      ],
      "metadata": {
        "id": "D5tCWjh6OGqi"
      },
      "execution_count": null,
      "outputs": []
    },
    {
      "cell_type": "code",
      "source": [
        "answer = f'https://ciberseguridad.diplomatura.unc.edu.ar/cripto/cbc-mac/{email}/answer?'\n",
        "print(quote(padded_payload, safe='&=@\\ <>'))\n",
        "response = requests.get(answer+quote(padded_payload, safe='&=@\\ <>'))\n",
        "response.text"
      ],
      "metadata": {
        "colab": {
          "base_uri": "https://localhost:8080/",
          "height": 73
        },
        "id": "jJ7wJrXJhj7S",
        "outputId": "bd089cf2-4952-4446-892d-2ddb3a6095bf"
      },
      "execution_count": null,
      "outputs": [
        {
          "output_type": "stream",
          "name": "stdout",
          "text": [
            "from=User <user@example.com>&lautarolombardi19@gmail.com=1000&comment=Invoice%03%03%03%C2%AF%CA%FD>%B9ks>CZH%C2Y%91%C5example.com>&lautarolombardi19@gmail.com=1000&comment=Invoice%03%03%03%C2%AF%CA%FD>%B9ks>CZH%C2Y%91%C5example.com>&lautarolombardi19@gmail.com=1000&comment=Invoice%03%03%03%C2%AF%CA%FD>%B9ks>CZH%C2Y%91%C5example.com>&lautarolombardi19@gmail.com=1000&comment=Invoice%03%03%03%C2%AF%CA%FD>%B9ks>CZH%C2Y%91%C5example.com>&lautarolombardi19@gmail.com=1000&comment=Invoice%03%03%03%C2%AF%CA%FD>%B9ks>CZH%C2Y%91%C5example.com>&lautarolombardi19@gmail.com=1000&comment=Invoice%03%03%03%C2%AF%CA%FD>%B9ks>CZH%C2Y%91%C5example.com>&lautarolombardi19@gmail.com=1000&comment=Invoice%03%03%03%C2%AF%CA%FD>%B9ks>CZH%C2Y%91%C5example.com>&lautarolombardi19@gmail.com=1000&comment=Invoice%03%03%03%C2%AF%CA%FD>%B9ks>CZH%C2Y%91%C5example.com>&lautarolombardi19@gmail.com=1000&comment=Invoice%03%03%03%C2%AF%CA%FD>%B9ks>CZH%C2Y%91%C5example.com>&lautarolombardi19@gmail.com=1000&comment=Invoice%03%03%03%C2%AF%CA%FD>%B9ks>CZH%C2Y%91%C5example.com>&lautarolombardi19@gmail.com=1000&comment=Invoice&mac=a4dda59003ec18164c63663db13ce385\n"
          ]
        },
        {
          "output_type": "execute_result",
          "data": {
            "text/plain": [
              "'¡Ganaste!\\n'"
            ],
            "application/vnd.google.colaboratory.intrinsic+json": {
              "type": "string"
            }
          },
          "metadata": {},
          "execution_count": 42
        }
      ]
    },
    {
      "cell_type": "code",
      "source": [],
      "metadata": {
        "id": "wtMTIkGoh00b"
      },
      "execution_count": null,
      "outputs": []
    }
  ]
}