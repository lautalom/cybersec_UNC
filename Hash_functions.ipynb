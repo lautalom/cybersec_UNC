{
  "nbformat": 4,
  "nbformat_minor": 0,
  "metadata": {
    "colab": {
      "provenance": [],
      "authorship_tag": "ABX9TyMt3T0EVEgnWiESvYistjk+",
      "include_colab_link": true
    },
    "kernelspec": {
      "name": "python3",
      "display_name": "Python 3"
    },
    "language_info": {
      "name": "python"
    }
  },
  "cells": [
    {
      "cell_type": "markdown",
      "metadata": {
        "id": "view-in-github",
        "colab_type": "text"
      },
      "source": [
        "<a href=\"https://colab.research.google.com/github/lautalom/diploUNC/blob/main/Hash_functions.ipynb\" target=\"_parent\"><img src=\"https://colab.research.google.com/assets/colab-badge.svg\" alt=\"Open In Colab\"/></a>"
      ]
    },
    {
      "cell_type": "markdown",
      "source": [
        "# Encontrar segunda preimagen de funcion de hash\n",
        "[Desafio](https://ciberseguridad.diplomatura.unc.edu.ar/cripto/doc/second-preimage.html)\n",
        "\n",
        "En promedio estos ataques toman 2^n intentos, n siendo la longitud de la salida. si la salida es de 20 bits, toma en promedio 2^20 intentos."
      ],
      "metadata": {
        "id": "VQ0lwS-iv9t9"
      }
    },
    {
      "cell_type": "code",
      "source": [
        "import requests\n",
        "import base64\n",
        "from hashlib import sha256\n",
        "import random\n",
        "import string"
      ],
      "metadata": {
        "id": "mPPNYuThwiRh"
      },
      "execution_count": null,
      "outputs": []
    },
    {
      "cell_type": "code",
      "execution_count": null,
      "metadata": {
        "id": "88gIo4vRvuUk"
      },
      "outputs": [],
      "source": [
        "email = \"lautarolombardi19@gmail.com\"\n",
        "server = f\"https://ciberseguridad.diplomatura.unc.edu.ar/cripto/second-preimage/{email}/challenge\"\n",
        "\n",
        "message = requests.get(url=server)\n",
        "#decoded = base64.b64decode(message.text)\n",
        "hash1 = message.text"
      ]
    },
    {
      "cell_type": "code",
      "source": [
        "#otra forma\n",
        "print(sha256(bytes(email,'ascii')).hexdigest()[:6])\n",
        "print(hash1)\n",
        "\n",
        "def generate_random_string(length):\n",
        "    characters = string.ascii_letters + string.digits + string.punctuation + string.whitespace\n",
        "    random_string = ''.join(random.choice(characters) for _ in range(length))\n",
        "    return random_string\n"
      ],
      "metadata": {
        "colab": {
          "base_uri": "https://localhost:8080/"
        },
        "id": "uThMAyj-wxPf",
        "outputId": "cc03a0a6-6d31-4603-fca2-f5c67b633033"
      },
      "execution_count": null,
      "outputs": [
        {
          "output_type": "stream",
          "name": "stdout",
          "text": [
            "407a91\n",
            "407a91\n"
          ]
        }
      ]
    },
    {
      "cell_type": "code",
      "source": [
        "winner=None\n",
        "for length in range(4,20):\n",
        "  print(length)\n",
        "  for i in range(2**20):\n",
        "    random_ascii = generate_random_string(length)\n",
        "    hash2 = sha256(bytes(f\"{email}{random_ascii}\",'ascii')).hexdigest()[:6]\n",
        "    if hash2 == hash1:\n",
        "      print(hash2, hash1)\n",
        "      winner = f\"{email}{random_ascii}\"\n",
        "      print(f'yay, winner is {random_ascii}')\n",
        "      break"
      ],
      "metadata": {
        "colab": {
          "base_uri": "https://localhost:8080/"
        },
        "id": "lsfkVpnIwyQL",
        "outputId": "7b8810eb-7c67-44c5-946c-071b2d15e7b7"
      },
      "execution_count": null,
      "outputs": [
        {
          "output_type": "stream",
          "name": "stdout",
          "text": [
            "4\n",
            "5\n",
            "6\n",
            "7\n",
            "8\n",
            "9\n",
            "10\n",
            "11\n",
            "12\n",
            "13\n",
            "14\n",
            "15\n",
            "407a91 407a91\n",
            "yay, winner is Z|\"M.W8pT<h8:/{\n",
            "16\n",
            "17\n",
            "18\n",
            "19\n"
          ]
        }
      ]
    },
    {
      "cell_type": "code",
      "source": [
        "#winner = f\"{email}\" + 'Z|\"M.W8pT<h8:/{'\n",
        "hash2 = sha256(bytes(winner,'ascii')).hexdigest()[:6]\n",
        "print(hash2, hash1)\n",
        "if hash2 is not None:\n",
        "    server = f\"https://ciberseguridad.diplomatura.unc.edu.ar/cripto/second-preimage/{email}/answer\"\n",
        "    answer = requests.post(url=server,files={\"message\": winner})\n",
        "else:\n",
        "    print(\"No winner found.\")\n",
        "print(answer.text)"
      ],
      "metadata": {
        "colab": {
          "base_uri": "https://localhost:8080/"
        },
        "id": "VMskzgUoynGF",
        "outputId": "cfb376ac-ab53-4ee4-867c-ebe7af9849f9"
      },
      "execution_count": null,
      "outputs": [
        {
          "output_type": "stream",
          "name": "stdout",
          "text": [
            "407a91 407a91\n",
            "¡Ganaste!\n",
            "\n"
          ]
        }
      ]
    },
    {
      "cell_type": "markdown",
      "source": [
        "# [Colisiones en una función de hash](https://ciberseguridad.diplomatura.unc.edu.ar/cripto/doc/collision.html)\n"
      ],
      "metadata": {
        "id": "eWPxNMrD8gHY"
      }
    },
    {
      "cell_type": "markdown",
      "source": [
        "Hay que encontrar 2 strings que contienen al mail que hasheen los primeros 48 bits iguales con sha256"
      ],
      "metadata": {
        "id": "3f4LDeLK939y"
      }
    },
    {
      "cell_type": "code",
      "source": [
        "winner= None\n",
        "winner2 = None\n",
        "found = False\n",
        "length = 5\n",
        "hash_dict = {}\n",
        "for i in range(2**26):\n",
        "  random_ascii = generate_random_string(length)\n",
        "  first = f\"{email}{random_ascii}\"\n",
        "  hash1 = sha256(bytes(first,'ascii')).hexdigest()[:12]\n",
        "  hash_dict[hash1] = first\n",
        "  random_ascii2 = generate_random_string(length)\n",
        "  second = f\"{email}{random_ascii2}\"\n",
        "  hash2 = sha256(bytes(second,'ascii')).hexdigest()[:12]\n",
        "  if hash2 in hash_dict and hash_dict[hash2] != second:\n",
        "    winner = hash_dict[hash2]\n",
        "    winner2 = f\"{email}{random_ascii2}\"\n",
        "    print(f'yay, winner is {winner}, {winner2}')\n",
        "    break\n"
      ],
      "metadata": {
        "colab": {
          "base_uri": "https://localhost:8080/"
        },
        "id": "m_C7hhZt8etM",
        "outputId": "0e9aa47b-5e7d-4e3f-accf-04f0b0751e12"
      },
      "execution_count": null,
      "outputs": [
        {
          "output_type": "stream",
          "name": "stdout",
          "text": [
            "yay, winner is lautarolombardi19@gmail.comW7iOo, lautarolombardi19@gmail.com8D^-9\n"
          ]
        }
      ]
    },
    {
      "cell_type": "code",
      "source": [
        "if winner and winner2:\n",
        "  server = f\"https://ciberseguridad.diplomatura.unc.edu.ar/cripto/collision/{email}/answer\"\n",
        "  answer = requests.post(url=server,files={\"message1\": winner, \"message2\": winner2})\n",
        "  print(answer.text)"
      ],
      "metadata": {
        "colab": {
          "base_uri": "https://localhost:8080/"
        },
        "id": "ufO5kAwZ-gY1",
        "outputId": "e259ca1c-0912-4a48-de94-279d38eeecf4"
      },
      "execution_count": null,
      "outputs": [
        {
          "output_type": "stream",
          "name": "stdout",
          "text": [
            "¡Ganaste!\n",
            "\n"
          ]
        }
      ]
    }
  ]
}